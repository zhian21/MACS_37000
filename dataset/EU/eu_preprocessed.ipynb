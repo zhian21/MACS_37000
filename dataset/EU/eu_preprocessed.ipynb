{
 "cells": [
  {
   "cell_type": "code",
   "execution_count": 1,
   "metadata": {},
   "outputs": [],
   "source": [
    "import os\n",
    "import numpy as np\n",
    "import pandas as pd\n",
    "import pyreadstat\n",
    "import matplotlib.pyplot as plt\n",
    "from sklearn.cluster import KMeans, DBSCAN, AgglomerativeClustering\n",
    "from sklearn.metrics import silhouette_score, davies_bouldin_score\n",
    "from sklearn.decomposition import PCA, TruncatedSVD\n",
    "from sklearn.mixture import GaussianMixture\n",
    "from joblib import Parallel, delayed\n",
    "import seaborn as sns\n",
    "from pyspark.sql import SparkSession\n",
    "from pyspark.ml.clustering import KMeans as SparkKMeans, GaussianMixture as SparkGMM\n",
    "from pyspark.ml.feature import VectorAssembler, PCA as SparkPCA\n",
    "from pyspark.mllib.linalg.distributed import RowMatrix\n",
    "from pyspark.mllib.linalg import Vectors"
   ]
  },
  {
   "cell_type": "code",
   "execution_count": 2,
   "metadata": {},
   "outputs": [],
   "source": [
    "# load the path\n",
    "os.chdir('/Users/lijiayu/Desktop/MACS_30700_Final/')"
   ]
  },
  {
   "cell_type": "code",
   "execution_count": 3,
   "metadata": {},
   "outputs": [],
   "source": [
    "df = pd.read_spss('dataset/EU/gender_norm.sav')"
   ]
  },
  {
   "cell_type": "code",
   "execution_count": 5,
   "metadata": {},
   "outputs": [
    {
     "data": {
      "text/html": [
       "<div>\n",
       "<style scoped>\n",
       "    .dataframe tbody tr th:only-of-type {\n",
       "        vertical-align: middle;\n",
       "    }\n",
       "\n",
       "    .dataframe tbody tr th {\n",
       "        vertical-align: top;\n",
       "    }\n",
       "\n",
       "    .dataframe thead th {\n",
       "        text-align: right;\n",
       "    }\n",
       "</style>\n",
       "<table border=\"1\" class=\"dataframe\">\n",
       "  <thead>\n",
       "    <tr style=\"text-align: right;\">\n",
       "      <th></th>\n",
       "      <th>gender</th>\n",
       "      <th>age</th>\n",
       "      <th>age_finishing_education</th>\n",
       "      <th>marital_status</th>\n",
       "      <th>children_status</th>\n",
       "    </tr>\n",
       "  </thead>\n",
       "  <tbody>\n",
       "    <tr>\n",
       "      <th>0</th>\n",
       "      <td>Man</td>\n",
       "      <td>22.0</td>\n",
       "      <td>Still studying</td>\n",
       "      <td>Other (SPONT.)</td>\n",
       "      <td>Other (SPONT.)</td>\n",
       "    </tr>\n",
       "    <tr>\n",
       "      <th>1</th>\n",
       "      <td>Woman</td>\n",
       "      <td>24.0</td>\n",
       "      <td>Still studying</td>\n",
       "      <td>Other (SPONT.)</td>\n",
       "      <td>Other (SPONT.)</td>\n",
       "    </tr>\n",
       "    <tr>\n",
       "      <th>2</th>\n",
       "      <td>Woman</td>\n",
       "      <td>63.0</td>\n",
       "      <td>16-19 years</td>\n",
       "      <td>(Re-)Married (1-4 in d7)</td>\n",
       "      <td>(Re-)Married: living without children</td>\n",
       "    </tr>\n",
       "    <tr>\n",
       "      <th>3</th>\n",
       "      <td>Man</td>\n",
       "      <td>63.0</td>\n",
       "      <td>16-19 years</td>\n",
       "      <td>Single living with partner (5-8 in d7)</td>\n",
       "      <td>Single living w partner: without children</td>\n",
       "    </tr>\n",
       "    <tr>\n",
       "      <th>4</th>\n",
       "      <td>Woman</td>\n",
       "      <td>81.0</td>\n",
       "      <td>Up to 15 years</td>\n",
       "      <td>(Re-)Married (1-4 in d7)</td>\n",
       "      <td>(Re-)Married: living without children</td>\n",
       "    </tr>\n",
       "  </tbody>\n",
       "</table>\n",
       "</div>"
      ],
      "text/plain": [
       "  gender   age age_finishing_education  \\\n",
       "0    Man  22.0          Still studying   \n",
       "1  Woman  24.0          Still studying   \n",
       "2  Woman  63.0             16-19 years   \n",
       "3    Man  63.0             16-19 years   \n",
       "4  Woman  81.0          Up to 15 years   \n",
       "\n",
       "                           marital_status  \\\n",
       "0                          Other (SPONT.)   \n",
       "1                          Other (SPONT.)   \n",
       "2                (Re-)Married (1-4 in d7)   \n",
       "3  Single living with partner (5-8 in d7)   \n",
       "4                (Re-)Married (1-4 in d7)   \n",
       "\n",
       "                             children_status  \n",
       "0                             Other (SPONT.)  \n",
       "1                             Other (SPONT.)  \n",
       "2      (Re-)Married: living without children  \n",
       "3  Single living w partner: without children  \n",
       "4      (Re-)Married: living without children  "
      ]
     },
     "metadata": {},
     "output_type": "display_data"
    }
   ],
   "source": [
    "# define column mapping to match pokec attributes\n",
    "eurobarometer_mapping = {\n",
    "    \"d10\": \"gender\",\n",
    "    \"d11\": \"age\",\n",
    "    \"d8r2\": \"age_finishing_education\",\n",
    "    \"d7r1\": \"marital_status\",\n",
    "    \"d7\": \"children_status\"\n",
    "}\n",
    "\n",
    "# select only relevant columns and rename them\n",
    "df_selected = df[list(eurobarometer_mapping.keys())].rename(columns=eurobarometer_mapping)\n",
    "\n",
    "# display the first few rows to verify selection\n",
    "display(df_selected.head())"
   ]
  },
  {
   "cell_type": "code",
   "execution_count": 6,
   "metadata": {},
   "outputs": [
    {
     "name": "stdout",
     "output_type": "stream",
     "text": [
      "[NaN, 'Married', 'Cohabiting', 'Divorced or Widowed', 'Single']\n",
      "Categories (4, object): ['Cohabiting', 'Divorced or Widowed', 'Married', 'Single']\n"
     ]
    }
   ],
   "source": [
    "# redefine the mapping for marital status to match pokec categories\n",
    "marital_status_mapping = {\n",
    "    \"Other (SPONT.)\": np.nan,\n",
    "    \"(Re-)Married (1-4 in d7)\": \"Married\",\n",
    "    \"Single living with partner (5-8 in d7)\": \"Cohabiting\",\n",
    "    \"Widow (13-14 in d7)\": \"Divorced or Widowed\",\n",
    "    \"Single (9-10 in d7)\": \"Single\",\n",
    "    \"Divorced or separated (11-12 in d7)\": \"Divorced or Widowed\"\n",
    "}\n",
    "\n",
    "# apply mapping to marital status\n",
    "df_selected[\"marital_status\"] = df_selected[\"marital_status\"].astype(str).replace(marital_status_mapping)\n",
    "df_selected[\"marital_status\"] = df_selected[\"marital_status\"].replace(\"nan\", np.nan).astype(\"category\")\n",
    "\n",
    "# verify unique values after mapping\n",
    "print(df_selected[\"marital_status\"].unique())"
   ]
  },
  {
   "cell_type": "code",
   "execution_count": 11,
   "metadata": {},
   "outputs": [
    {
     "name": "stdout",
     "output_type": "stream",
     "text": [
      "[NaN, 'No', 'Yes']\n",
      "Categories (2, object): ['No', 'Yes']\n"
     ]
    }
   ],
   "source": [
    "# correct mapping for children_status\n",
    "children_mapping = {\n",
    "    \"(Re-)Married: w children of this marriage\": \"Yes\",\n",
    "    \"(Re-)Married: w children of this and previous marriage\": \"Yes\",\n",
    "    \"(Re-)Married: w children of previous marriage\": \"Yes\",\n",
    "    \"Single living w partner: w children of this union\": \"Yes\",\n",
    "    \"Single living w partner: w children of previous union\": \"Yes\",\n",
    "    \"Single living w partner: w children of this and previous union\": \"Yes\",\n",
    "    \"Single: with children\": \"Yes\",\n",
    "    \"Divorced/Separated: living with children\": \"Yes\",\n",
    "    \"Widow/er: living with children\": \"Yes\",\n",
    "    \"(Re-)Married: living without children\": \"No\",\n",
    "    \"Single living w partner: without children\": \"No\",\n",
    "    \"Single: living without children\": \"No\",\n",
    "    \"Divorced/Separated: living without children\": \"No\",\n",
    "    \"Widow/er: living without children\": \"No\",\n",
    "    np.nan: np.nan  # keep NaN values unchanged\n",
    "}\n",
    "\n",
    "# apply mapping\n",
    "df_selected[\"children_status\"] = df_selected[\"children_status\"].replace(children_mapping).astype(\"category\")\n",
    "\n",
    "# check unique values after mapping\n",
    "print(df_selected[\"children_status\"].unique())"
   ]
  },
  {
   "cell_type": "code",
   "execution_count": 8,
   "metadata": {},
   "outputs": [
    {
     "name": "stdout",
     "output_type": "stream",
     "text": [
      "['Male', 'Female']\n",
      "Categories (2, object): ['Female', 'Male']\n"
     ]
    }
   ],
   "source": [
    "# standardize gender values to match Pokec\n",
    "gender_mapping = {\n",
    "    \"Man\": \"Male\",\n",
    "    \"Woman\": \"Female\"\n",
    "}\n",
    "\n",
    "df_selected[\"gender\"] = df_selected[\"gender\"].replace(gender_mapping).astype(\"category\")\n",
    "\n",
    "# verify unique values after mapping\n",
    "print(df_selected[\"gender\"].unique())"
   ]
  },
  {
   "cell_type": "code",
   "execution_count": 12,
   "metadata": {},
   "outputs": [
    {
     "name": "stdout",
     "output_type": "stream",
     "text": [
      "float64\n"
     ]
    }
   ],
   "source": [
    "# ensure age is numeric\n",
    "df_selected[\"age\"] = pd.to_numeric(df_selected[\"age\"], errors=\"coerce\")\n",
    "\n",
    "# verify conversion\n",
    "print(df_selected[\"age\"].dtype)  # should be 'float64' or 'int64'"
   ]
  },
  {
   "cell_type": "code",
   "execution_count": 13,
   "metadata": {},
   "outputs": [
    {
     "name": "stdout",
     "output_type": "stream",
     "text": [
      "['High', 'Middle', 'Low', NaN, 'No education']\n",
      "Categories (4, object): ['High', 'Low', 'Middle', 'No education']\n"
     ]
    }
   ],
   "source": [
    "# redefine the mapping for education level\n",
    "education_mapping = {\n",
    "    \"Up to 15 years\": \"Low\",\n",
    "    \"16-19 years\": \"Middle\",\n",
    "    \"20 years and older\": \"High\",\n",
    "    \"No full-time education\": \"No education\",\n",
    "    \"Still studying\": None  # Will be reassigned based on age\n",
    "}\n",
    "\n",
    "# apply education mapping\n",
    "df_selected[\"education_level\"] = df_selected[\"age_finishing_education\"].replace(education_mapping)\n",
    "\n",
    "# handle \"Still Studying\" cases by assigning education level based on age\n",
    "df_selected.loc[df_selected[\"age_finishing_education\"] == \"Still studying\", \"education_level\"] = df_selected[\"age\"].apply(\n",
    "    lambda x: \"Low\" if pd.notna(x) and x <= 15 else \n",
    "              \"Middle\" if pd.notna(x) and 16 <= x <= 19 else \n",
    "              \"High\" if pd.notna(x) and x > 19 else np.nan\n",
    ")\n",
    "\n",
    "# ensure column is categorical\n",
    "df_selected[\"education_level\"] = df_selected[\"education_level\"].astype(\"category\")\n",
    "\n",
    "# verify unique values after mapping\n",
    "print(df_selected[\"education_level\"].unique())\n"
   ]
  },
  {
   "cell_type": "code",
   "execution_count": 14,
   "metadata": {},
   "outputs": [
    {
     "name": "stdout",
     "output_type": "stream",
     "text": [
      "['19-25', '45-64', '65+', '26-44', '15-18', NaN]\n",
      "Categories (5, object): ['15-18' < '19-25' < '26-44' < '45-64' < '65+']\n"
     ]
    }
   ],
   "source": [
    "# define age groups to match Pokec dataset\n",
    "age_bins = [15, 18, 25, 44, 64, np.inf]\n",
    "age_labels = [\"15-18\", \"19-25\", \"26-44\", \"45-64\", \"65+\"]\n",
    "\n",
    "df_selected[\"age_group\"] = pd.cut(df_selected[\"age\"], bins=age_bins, labels=age_labels, right=True).astype(\"category\")\n",
    "\n",
    "# verify unique values after mapping\n",
    "print(df_selected[\"age_group\"].unique())"
   ]
  },
  {
   "cell_type": "code",
   "execution_count": 17,
   "metadata": {},
   "outputs": [
    {
     "data": {
      "text/html": [
       "<div>\n",
       "<style scoped>\n",
       "    .dataframe tbody tr th:only-of-type {\n",
       "        vertical-align: middle;\n",
       "    }\n",
       "\n",
       "    .dataframe tbody tr th {\n",
       "        vertical-align: top;\n",
       "    }\n",
       "\n",
       "    .dataframe thead th {\n",
       "        text-align: right;\n",
       "    }\n",
       "</style>\n",
       "<table border=\"1\" class=\"dataframe\">\n",
       "  <thead>\n",
       "    <tr style=\"text-align: right;\">\n",
       "      <th></th>\n",
       "      <th>gender</th>\n",
       "      <th>age</th>\n",
       "      <th>age_finishing_education</th>\n",
       "      <th>marital_status</th>\n",
       "      <th>children_status</th>\n",
       "      <th>education_level</th>\n",
       "      <th>age_group</th>\n",
       "    </tr>\n",
       "  </thead>\n",
       "  <tbody>\n",
       "    <tr>\n",
       "      <th>0</th>\n",
       "      <td>Male</td>\n",
       "      <td>22.0</td>\n",
       "      <td>Still studying</td>\n",
       "      <td>NaN</td>\n",
       "      <td>NaN</td>\n",
       "      <td>High</td>\n",
       "      <td>19-25</td>\n",
       "    </tr>\n",
       "    <tr>\n",
       "      <th>1</th>\n",
       "      <td>Female</td>\n",
       "      <td>24.0</td>\n",
       "      <td>Still studying</td>\n",
       "      <td>NaN</td>\n",
       "      <td>NaN</td>\n",
       "      <td>High</td>\n",
       "      <td>19-25</td>\n",
       "    </tr>\n",
       "    <tr>\n",
       "      <th>2</th>\n",
       "      <td>Female</td>\n",
       "      <td>63.0</td>\n",
       "      <td>16-19 years</td>\n",
       "      <td>Married</td>\n",
       "      <td>No</td>\n",
       "      <td>Middle</td>\n",
       "      <td>45-64</td>\n",
       "    </tr>\n",
       "    <tr>\n",
       "      <th>3</th>\n",
       "      <td>Male</td>\n",
       "      <td>63.0</td>\n",
       "      <td>16-19 years</td>\n",
       "      <td>Cohabiting</td>\n",
       "      <td>No</td>\n",
       "      <td>Middle</td>\n",
       "      <td>45-64</td>\n",
       "    </tr>\n",
       "    <tr>\n",
       "      <th>4</th>\n",
       "      <td>Female</td>\n",
       "      <td>81.0</td>\n",
       "      <td>Up to 15 years</td>\n",
       "      <td>Married</td>\n",
       "      <td>No</td>\n",
       "      <td>Low</td>\n",
       "      <td>65+</td>\n",
       "    </tr>\n",
       "  </tbody>\n",
       "</table>\n",
       "</div>"
      ],
      "text/plain": [
       "   gender   age age_finishing_education marital_status children_status  \\\n",
       "0    Male  22.0          Still studying            NaN             NaN   \n",
       "1  Female  24.0          Still studying            NaN             NaN   \n",
       "2  Female  63.0             16-19 years        Married              No   \n",
       "3    Male  63.0             16-19 years     Cohabiting              No   \n",
       "4  Female  81.0          Up to 15 years        Married              No   \n",
       "\n",
       "  education_level age_group  \n",
       "0            High     19-25  \n",
       "1            High     19-25  \n",
       "2          Middle     45-64  \n",
       "3          Middle     45-64  \n",
       "4             Low       65+  "
      ]
     },
     "metadata": {},
     "output_type": "display_data"
    },
    {
     "name": "stdout",
     "output_type": "stream",
     "text": [
      "\n",
      "Unique values for gender:\n"
     ]
    },
    {
     "data": {
      "text/plain": [
       "Female    15284\n",
       "Male      12517\n",
       "Name: gender, dtype: int64"
      ]
     },
     "metadata": {},
     "output_type": "display_data"
    },
    {
     "name": "stdout",
     "output_type": "stream",
     "text": [
      "\n",
      "Unique values for age_group:\n"
     ]
    },
    {
     "data": {
      "text/plain": [
       "45-64    9583\n",
       "26-44    7864\n",
       "65+      7234\n",
       "19-25    2243\n",
       "15-18     704\n",
       "NaN       173\n",
       "Name: age_group, dtype: int64"
      ]
     },
     "metadata": {},
     "output_type": "display_data"
    },
    {
     "name": "stdout",
     "output_type": "stream",
     "text": [
      "\n",
      "Unique values for education_level:\n"
     ]
    },
    {
     "data": {
      "text/plain": [
       "Middle          12696\n",
       "High            10036\n",
       "Low              4264\n",
       "NaN               602\n",
       "No education      203\n",
       "Name: education_level, dtype: int64"
      ]
     },
     "metadata": {},
     "output_type": "display_data"
    },
    {
     "name": "stdout",
     "output_type": "stream",
     "text": [
      "\n",
      "Unique values for marital_status:\n"
     ]
    },
    {
     "data": {
      "text/plain": [
       "Married                14737\n",
       "Divorced or Widowed     5016\n",
       "Single                  4674\n",
       "Cohabiting              3103\n",
       "NaN                      271\n",
       "Name: marital_status, dtype: int64"
      ]
     },
     "metadata": {},
     "output_type": "display_data"
    },
    {
     "name": "stdout",
     "output_type": "stream",
     "text": [
      "\n",
      "Unique values for children_status:\n"
     ]
    },
    {
     "data": {
      "text/plain": [
       "No     17160\n",
       "Yes    10370\n",
       "NaN      271\n",
       "Name: children_status, dtype: int64"
      ]
     },
     "metadata": {},
     "output_type": "display_data"
    }
   ],
   "source": [
    "# display first few rows of df_selected\n",
    "display(df_selected.head())\n",
    "\n",
    "# display unique values for each categorical column in a structured format\n",
    "for col in [\"gender\", \"age_group\", \"education_level\", \"marital_status\", \"children_status\"]:\n",
    "    print(f\"\\nUnique values for {col}:\")\n",
    "    display(df_selected[col].value_counts(dropna=False))  # shows frequency of each unique value"
   ]
  },
  {
   "cell_type": "code",
   "execution_count": 18,
   "metadata": {},
   "outputs": [
    {
     "name": "stdout",
     "output_type": "stream",
     "text": [
      "Final dataset size after removing NaN values: 26955\n"
     ]
    }
   ],
   "source": [
    "# drop rows where any of the key sociodemographic attributes are NaN\n",
    "df_selected = df_selected.dropna(subset=[\"gender\", \"age_group\", \"education_level\", \"marital_status\", \"children_status\"])\n",
    "\n",
    "# check final dataset size\n",
    "print(f\"Final dataset size after removing NaN values: {df_selected.shape[0]}\")"
   ]
  },
  {
   "cell_type": "code",
   "execution_count": 19,
   "metadata": {},
   "outputs": [
    {
     "name": "stdout",
     "output_type": "stream",
     "text": [
      "No missing values in df_selected.\n"
     ]
    }
   ],
   "source": [
    "# check for missing values across all columns in df_selected\n",
    "missing_values = df_selected.isna().sum()\n",
    "missing_values = missing_values[missing_values > 0]  # filter only columns with missing values\n",
    "\n",
    "# display missing values per column\n",
    "if missing_values.empty:\n",
    "    print(\"No missing values in df_selected.\")\n",
    "else:\n",
    "    print(\"Missing values detected:\")\n",
    "    print(missing_values)"
   ]
  },
  {
   "cell_type": "code",
   "execution_count": 20,
   "metadata": {},
   "outputs": [
    {
     "name": "stdout",
     "output_type": "stream",
     "text": [
      "Export completed: dataset/EU/eu.csv\n"
     ]
    }
   ],
   "source": [
    "# export df_selected as eu.csv\n",
    "df_selected.to_csv(\"dataset/EU/eu.csv\", index=False)\n",
    "\n",
    "print(\"Export completed: dataset/EU/eu.csv\")\n"
   ]
  }
 ],
 "metadata": {
  "kernelspec": {
   "display_name": "base",
   "language": "python",
   "name": "python3"
  },
  "language_info": {
   "codemirror_mode": {
    "name": "ipython",
    "version": 3
   },
   "file_extension": ".py",
   "mimetype": "text/x-python",
   "name": "python",
   "nbconvert_exporter": "python",
   "pygments_lexer": "ipython3",
   "version": "3.11.4"
  },
  "orig_nbformat": 4
 },
 "nbformat": 4,
 "nbformat_minor": 2
}
