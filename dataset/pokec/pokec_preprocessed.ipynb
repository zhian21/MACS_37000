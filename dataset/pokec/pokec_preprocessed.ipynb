{
 "cells": [
  {
   "cell_type": "code",
   "execution_count": 1,
   "metadata": {},
   "outputs": [],
   "source": [
    "import os\n",
    "import numpy as np\n",
    "import pandas as pd\n",
    "import pyreadstat\n",
    "import matplotlib.pyplot as plt\n",
    "from sklearn.cluster import KMeans, DBSCAN, AgglomerativeClustering\n",
    "from sklearn.metrics import silhouette_score, davies_bouldin_score\n",
    "from sklearn.decomposition import PCA, TruncatedSVD\n",
    "from sklearn.mixture import GaussianMixture\n",
    "from joblib import Parallel, delayed\n",
    "import seaborn as sns\n",
    "from pyspark.sql import SparkSession\n",
    "from pyspark.ml.clustering import KMeans as SparkKMeans, GaussianMixture as SparkGMM\n",
    "from pyspark.ml.feature import VectorAssembler, PCA as SparkPCA\n",
    "from pyspark.mllib.linalg.distributed import RowMatrix\n",
    "from pyspark.mllib.linalg import Vectors"
   ]
  },
  {
   "cell_type": "code",
   "execution_count": 2,
   "metadata": {},
   "outputs": [],
   "source": [
    "# load the path\n",
    "os.chdir('/Users/lijiayu/Desktop/MACS_30700_Final/')"
   ]
  },
  {
   "cell_type": "code",
   "execution_count": 3,
   "metadata": {},
   "outputs": [
    {
     "name": "stdout",
     "output_type": "stream",
     "text": [
      "Current Working Directory: /Users/lijiayu/Desktop/MACS_30700_Final\n"
     ]
    }
   ],
   "source": [
    "print(\"Current Working Directory:\", os.getcwd())"
   ]
  },
  {
   "cell_type": "code",
   "execution_count": 4,
   "metadata": {},
   "outputs": [
    {
     "name": "stdout",
     "output_type": "stream",
     "text": [
      "   source  target\n",
      "0       1      13\n",
      "1       1      11\n",
      "2       1       6\n",
      "3       1       3\n",
      "4       1       4\n"
     ]
    }
   ],
   "source": [
    "# load relationships\n",
    "edges_file = \"dataset/pokec/soc-pokec-relationships.txt\"\n",
    "edges = pd.read_csv(edges_file, sep=\"\\t\", header=None, names=[\"source\", \"target\"])\n",
    "\n",
    "# display first few rows\n",
    "print(edges.head())"
   ]
  },
  {
   "cell_type": "code",
   "execution_count": 5,
   "metadata": {},
   "outputs": [
    {
     "data": {
      "text/html": [
       "<div>\n",
       "<style scoped>\n",
       "    .dataframe tbody tr th:only-of-type {\n",
       "        vertical-align: middle;\n",
       "    }\n",
       "\n",
       "    .dataframe tbody tr th {\n",
       "        vertical-align: top;\n",
       "    }\n",
       "\n",
       "    .dataframe thead th {\n",
       "        text-align: right;\n",
       "    }\n",
       "</style>\n",
       "<table border=\"1\" class=\"dataframe\">\n",
       "  <thead>\n",
       "    <tr style=\"text-align: right;\">\n",
       "      <th></th>\n",
       "      <th>source</th>\n",
       "      <th>target</th>\n",
       "    </tr>\n",
       "  </thead>\n",
       "  <tbody>\n",
       "    <tr>\n",
       "      <th>0</th>\n",
       "      <td>1</td>\n",
       "      <td>13</td>\n",
       "    </tr>\n",
       "    <tr>\n",
       "      <th>1</th>\n",
       "      <td>1</td>\n",
       "      <td>11</td>\n",
       "    </tr>\n",
       "    <tr>\n",
       "      <th>2</th>\n",
       "      <td>1</td>\n",
       "      <td>6</td>\n",
       "    </tr>\n",
       "    <tr>\n",
       "      <th>3</th>\n",
       "      <td>1</td>\n",
       "      <td>3</td>\n",
       "    </tr>\n",
       "    <tr>\n",
       "      <th>4</th>\n",
       "      <td>1</td>\n",
       "      <td>4</td>\n",
       "    </tr>\n",
       "  </tbody>\n",
       "</table>\n",
       "</div>"
      ],
      "text/plain": [
       "   source  target\n",
       "0       1      13\n",
       "1       1      11\n",
       "2       1       6\n",
       "3       1       3\n",
       "4       1       4"
      ]
     },
     "metadata": {},
     "output_type": "display_data"
    }
   ],
   "source": [
    "display(edges.head())"
   ]
  },
  {
   "cell_type": "code",
   "execution_count": 6,
   "metadata": {},
   "outputs": [
    {
     "name": "stdout",
     "output_type": "stream",
     "text": [
      "line 1: 59 columns\n",
      "line 2: 59 columns\n",
      "line 3: 59 columns\n",
      "line 4: 59 columns\n",
      "line 5: 59 columns\n"
     ]
    }
   ],
   "source": [
    "# load user profiles\n",
    "profiles_file = \"dataset/pokec/soc-pokec-profiles.txt\"\n",
    "\n",
    "# read a few rows to check structure\n",
    "with open(profiles_file, \"r\", encoding=\"utf-8\") as file:\n",
    "    sample_lines = [next(file) for _ in range(5)]\n",
    "\n",
    "# count the number of tab-separated values in each row\n",
    "for i, line in enumerate(sample_lines):\n",
    "    print(\"line {}: {} columns\".format(i+1, len(line.strip().split(\"\\t\"))))"
   ]
  },
  {
   "cell_type": "code",
   "execution_count": 7,
   "metadata": {},
   "outputs": [
    {
     "name": "stdout",
     "output_type": "stream",
     "text": [
      "[1 1 14 1.0 'zilinsky kraj, zilina' '2012-05-25 11:20:00.0'\n",
      " '2005-04-03 00:00:00.0' 26.0 '185 cm, 90 kg' 'it' 'anglicky'\n",
      " 'sportovanie, spanie, kino, jedlo, pocuvanie hudby, priatelia, divadlo'\n",
      " 'v dobrej restauracii' 'mam psa' nan nan nan nan nan nan nan nan nan nan\n",
      " nan nan nan nan nan nan nan nan nan nan nan nan nan nan nan nan nan nan\n",
      " nan nan nan nan nan nan nan nan nan nan nan nan nan nan nan nan nan nan]\n",
      "total columns detected: 60\n"
     ]
    }
   ],
   "source": [
    "profiles = pd.read_csv(profiles_file, sep=\"\\t\", header=None)\n",
    "\n",
    "# display first row to inspect column structure\n",
    "print(profiles.iloc[0].values)\n",
    "print(\"total columns detected:\", profiles.shape[1])"
   ]
  },
  {
   "cell_type": "code",
   "execution_count": 8,
   "metadata": {},
   "outputs": [
    {
     "name": "stdout",
     "output_type": "stream",
     "text": [
      "[2 1 62 0.0 'zilinsky kraj, kysucke nove mesto' '2012-05-25 23:08:00.0'\n",
      " '2007-11-30 00:00:00.0' 0.0 '166 cm, 58 kg' nan 'nemecky'\n",
      " 'turistika, prace okolo domu, praca s pc, pocuvanie hudby, pozeranie filmov, tancovanie, diskoteky, kupalisko, varenie, party, priatelia, spanie, nakupovanie, stanovanie'\n",
      " 'pri svieckach s partnerom' 'macka' 'priemerna' 'vyborny' 'zelene'\n",
      " 'cierne' 'dlhe'\n",
      " 'zakladne, ale som uz na strednej skole dufam ze ju spravim'\n",
      " 'cierna, modra, ruzova' 'nefajcim'\n",
      " 'pijem prilezitostne, iba ked sa nieco kona a to napr. na zabave,na chate,na stanovackach a pod.'\n",
      " 'byk' 'dobreho priatela, priatelku, mozno aj viac'\n",
      " 'nie je nic lepsie, ako byt zamilovany(a)' 'iba s mojou laskou'\n",
      " 'laskou mojho zivota' 'slobodny(a)'\n",
      " 'no budu a tak chcem 2 deti staci a tak ked budeme vladat tak bude aj viac co ja viem co ma v zivote postretne:d'\n",
      " 'v buducnosti chcem mat deti' 'komedie, romanticke' 'doma z gauca'\n",
      " 'disko, pop, rap a jasn eto co teraz leti najviac nejlepsie je fun-radio'\n",
      " 'na diskoteke, pri chodzi' 'pri svieckach s partnerom' 'slovenskej'\n",
      " '<div> <a title=\"vstup do klubu\" href=\"/klub/profesionali\">profesiona&shy;li</a> </div>'\n",
      " nan nan nan nan nan nan nan nan nan nan nan nan nan nan nan nan nan nan\n",
      " nan nan nan nan]\n",
      "total columns detected: 60\n"
     ]
    }
   ],
   "source": [
    "# display first row to inspect column structure\n",
    "print(profiles.iloc[1].values)\n",
    "print(\"total columns detected:\", profiles.shape[1])"
   ]
  },
  {
   "cell_type": "code",
   "execution_count": 9,
   "metadata": {},
   "outputs": [
    {
     "name": "stdout",
     "output_type": "stream",
     "text": [
      "[16 1 64 1.0 'zilinsky kraj, kysucke nove mesto' '2012-05-25 23:19:40.0'\n",
      " '2008-05-18 00:00:00.0' 23.0 '173 cm, 70 kg'\n",
      " 'najvatcsej firme na svete urad prace'\n",
      " 'no predsa svoj :d a najlepsie druhy'\n",
      " 'cestovanie, pocuvanie hudby, nenudit sa' 'v dobrej restauracii'\n",
      " 'ja a nas prefikany alik :)'\n",
      " 'nemozem pribrat nedasa smola som moc aktivny'\n",
      " 'to co by som mal nosit tak nenosim asi tak' 'hnede' 'hnede hnede' nan\n",
      " 'coskoro 24.5 alebo 31.9    :d' 'biela, modra, zelena' 'nemam'\n",
      " 'pijem iba ked musim ...svadby.pohreby.krstiny a tak' 'lev' nan\n",
      " 'oplati sa pre nu bojovat' 'ja uz som stary na take veci :)'\n",
      " 'ked ho stretnem tak vam o nom porozpravam :)' 'slobodny(a)'\n",
      " 'casom ak budem este vladat :d' nan 'take co ma uputaju'\n",
      " 'v kine s ludmy ktory mam rad'\n",
      " 'hoci co co zapasuje ale klasa vede atb samozrejme najnovsie co sa hrava vrebrickoch hytparad :xd'\n",
      " 'samozrejme sam kazdy ma iny vkus neda sa vsetkym vyhoviet' nan\n",
      " 'ak sa to da ziet tak setko' nan 'nie' 'lyzovanie, plavanie' 'non kanal'\n",
      " 'bit lepsi ako druhy' 'uz ich moc nectem' nan nan nan nan nan nan nan nan\n",
      " nan nan nan nan nan nan nan nan nan]\n",
      "total columns detected: 60\n"
     ]
    }
   ],
   "source": [
    "# display first row to inspect column structure\n",
    "print(profiles.iloc[2].values)\n",
    "print(\"total columns detected:\", profiles.shape[1])"
   ]
  },
  {
   "cell_type": "code",
   "execution_count": 10,
   "metadata": {},
   "outputs": [
    {
     "name": "stdout",
     "output_type": "stream",
     "text": [
      "[3 0 38 1.0 'bratislavsky kraj, bratislava - karlova ves'\n",
      " '2012-05-10 18:05:00.0' '2010-05-23 00:00:00.0' 29.0 nan\n",
      " 'reklamy a medii, sluzieb a obchodu' 'anglicky, nemecky'\n",
      " 'sportovanie, cestovanie' nan nan nan nan 'zelene' 'hnede' nan nan\n",
      " 'cierna, modra' nan nan nan\n",
      " 'dobreho priatela, priatelku, niekoho na chatovanie' nan nan nan\n",
      " 'slobodny(a)' nan nan\n",
      " 'akcne, horory, komedie, sci-fi, dokumentarne, historicke' nan\n",
      " 'rock, metal, house, techno, pop, oldies, jazz'\n",
      " 'v aute, v praci, na koncerte, s partnerom' nan\n",
      " 'slovenskej, talianskej, japonskej' nan 'pravidelne'\n",
      " 'hokej, futbal, auto-moto sporty, squash'\n",
      " 'auto-moto sporty, futbal, hokej' nan nan nan nan nan nan nan nan nan nan\n",
      " nan nan nan nan nan nan nan nan nan]\n",
      "total columns detected: 60\n"
     ]
    }
   ],
   "source": [
    "# display first row to inspect column structure\n",
    "print(profiles.iloc[3].values)\n",
    "print(\"total columns detected:\", profiles.shape[1])"
   ]
  },
  {
   "cell_type": "code",
   "execution_count": 11,
   "metadata": {},
   "outputs": [
    {
     "name": "stdout",
     "output_type": "stream",
     "text": [
      "   user_id  gender   age                       completed_level_of_education  \\\n",
      "0        1     1.0  26.0                                                NaN   \n",
      "1        2     0.0   0.0  zakladne, ale som uz na strednej skole dufam z...   \n",
      "2       16     1.0  23.0                      coskoro 24.5 alebo 31.9    :d   \n",
      "3        3     1.0  29.0                                                NaN   \n",
      "4        4     0.0  26.0                                                NaN   \n",
      "\n",
      "                                            children marital_status  \n",
      "0                                                NaN            NaN  \n",
      "1  no budu a tak chcem 2 deti staci a tak ked bud...    slobodny(a)  \n",
      "2                      casom ak budem este vladat :d    slobodny(a)  \n",
      "3                                                NaN    slobodny(a)  \n",
      "4                                                NaN            NaN  \n"
     ]
    }
   ],
   "source": [
    "# define the correct column indices for the selected sociodemographic attributes\n",
    "selected_columns = [0, 3, 7, 19, 29, 28]  # indices based on dataset description\n",
    "\n",
    "# extract only the required columns\n",
    "profiles = profiles.iloc[:, selected_columns]\n",
    "\n",
    "# rename the columns properly\n",
    "profiles.columns = [\"user_id\", \"gender\", \"age\", \"completed_level_of_education\", \"children\", \"marital_status\"]\n",
    "\n",
    "# display first few rows to confirm\n",
    "print(profiles.head())\n"
   ]
  },
  {
   "cell_type": "code",
   "execution_count": 12,
   "metadata": {},
   "outputs": [
    {
     "data": {
      "text/html": [
       "<div>\n",
       "<style scoped>\n",
       "    .dataframe tbody tr th:only-of-type {\n",
       "        vertical-align: middle;\n",
       "    }\n",
       "\n",
       "    .dataframe tbody tr th {\n",
       "        vertical-align: top;\n",
       "    }\n",
       "\n",
       "    .dataframe thead th {\n",
       "        text-align: right;\n",
       "    }\n",
       "</style>\n",
       "<table border=\"1\" class=\"dataframe\">\n",
       "  <thead>\n",
       "    <tr style=\"text-align: right;\">\n",
       "      <th></th>\n",
       "      <th>user_id</th>\n",
       "      <th>gender</th>\n",
       "      <th>age</th>\n",
       "      <th>completed_level_of_education</th>\n",
       "      <th>children</th>\n",
       "      <th>marital_status</th>\n",
       "    </tr>\n",
       "  </thead>\n",
       "  <tbody>\n",
       "    <tr>\n",
       "      <th>1632798</th>\n",
       "      <td>1632799</td>\n",
       "      <td>0.0</td>\n",
       "      <td>23.0</td>\n",
       "      <td>NaN</td>\n",
       "      <td>NaN</td>\n",
       "      <td>NaN</td>\n",
       "    </tr>\n",
       "    <tr>\n",
       "      <th>1632799</th>\n",
       "      <td>1632800</td>\n",
       "      <td>1.0</td>\n",
       "      <td>33.0</td>\n",
       "      <td>NaN</td>\n",
       "      <td>NaN</td>\n",
       "      <td>NaN</td>\n",
       "    </tr>\n",
       "    <tr>\n",
       "      <th>1632800</th>\n",
       "      <td>1632801</td>\n",
       "      <td>1.0</td>\n",
       "      <td>0.0</td>\n",
       "      <td>NaN</td>\n",
       "      <td>NaN</td>\n",
       "      <td>NaN</td>\n",
       "    </tr>\n",
       "    <tr>\n",
       "      <th>1632801</th>\n",
       "      <td>1632802</td>\n",
       "      <td>1.0</td>\n",
       "      <td>19.0</td>\n",
       "      <td>NaN</td>\n",
       "      <td>NaN</td>\n",
       "      <td>NaN</td>\n",
       "    </tr>\n",
       "    <tr>\n",
       "      <th>1632802</th>\n",
       "      <td>1632803</td>\n",
       "      <td>0.0</td>\n",
       "      <td>44.0</td>\n",
       "      <td>NaN</td>\n",
       "      <td>NaN</td>\n",
       "      <td>NaN</td>\n",
       "    </tr>\n",
       "  </tbody>\n",
       "</table>\n",
       "</div>"
      ],
      "text/plain": [
       "         user_id  gender   age completed_level_of_education children  \\\n",
       "1632798  1632799     0.0  23.0                          NaN      NaN   \n",
       "1632799  1632800     1.0  33.0                          NaN      NaN   \n",
       "1632800  1632801     1.0   0.0                          NaN      NaN   \n",
       "1632801  1632802     1.0  19.0                          NaN      NaN   \n",
       "1632802  1632803     0.0  44.0                          NaN      NaN   \n",
       "\n",
       "        marital_status  \n",
       "1632798            NaN  \n",
       "1632799            NaN  \n",
       "1632800            NaN  \n",
       "1632801            NaN  \n",
       "1632802            NaN  "
      ]
     },
     "metadata": {},
     "output_type": "display_data"
    }
   ],
   "source": [
    "display(profiles.tail())"
   ]
  },
  {
   "cell_type": "code",
   "execution_count": 13,
   "metadata": {},
   "outputs": [
    {
     "name": "stdout",
     "output_type": "stream",
     "text": [
      "original dataset size: 1632803\n",
      "cleaned dataset size: 355005\n",
      "rows removed: 1277798\n"
     ]
    }
   ],
   "source": [
    "# remove rows that contain any na values in the selected columns\n",
    "profiles_cleaned = profiles.dropna()\n",
    "\n",
    "# check how many rows were removed\n",
    "print(f\"original dataset size: {profiles.shape[0]}\")\n",
    "print(f\"cleaned dataset size: {profiles_cleaned.shape[0]}\")\n",
    "print(f\"rows removed: {profiles.shape[0] - profiles_cleaned.shape[0]}\")"
   ]
  },
  {
   "cell_type": "code",
   "execution_count": 14,
   "metadata": {},
   "outputs": [
    {
     "data": {
      "text/html": [
       "<div>\n",
       "<style scoped>\n",
       "    .dataframe tbody tr th:only-of-type {\n",
       "        vertical-align: middle;\n",
       "    }\n",
       "\n",
       "    .dataframe tbody tr th {\n",
       "        vertical-align: top;\n",
       "    }\n",
       "\n",
       "    .dataframe thead th {\n",
       "        text-align: right;\n",
       "    }\n",
       "</style>\n",
       "<table border=\"1\" class=\"dataframe\">\n",
       "  <thead>\n",
       "    <tr style=\"text-align: right;\">\n",
       "      <th></th>\n",
       "      <th>user_id</th>\n",
       "      <th>gender</th>\n",
       "      <th>age</th>\n",
       "      <th>completed_level_of_education</th>\n",
       "      <th>children</th>\n",
       "      <th>marital_status</th>\n",
       "    </tr>\n",
       "  </thead>\n",
       "  <tbody>\n",
       "    <tr>\n",
       "      <th>1</th>\n",
       "      <td>2</td>\n",
       "      <td>0.0</td>\n",
       "      <td>0.0</td>\n",
       "      <td>zakladne, ale som uz na strednej skole dufam z...</td>\n",
       "      <td>no budu a tak chcem 2 deti staci a tak ked bud...</td>\n",
       "      <td>slobodny(a)</td>\n",
       "    </tr>\n",
       "    <tr>\n",
       "      <th>2</th>\n",
       "      <td>16</td>\n",
       "      <td>1.0</td>\n",
       "      <td>23.0</td>\n",
       "      <td>coskoro 24.5 alebo 31.9    :d</td>\n",
       "      <td>casom ak budem este vladat :d</td>\n",
       "      <td>slobodny(a)</td>\n",
       "    </tr>\n",
       "    <tr>\n",
       "      <th>11</th>\n",
       "      <td>32</td>\n",
       "      <td>1.0</td>\n",
       "      <td>21.0</td>\n",
       "      <td>stredoskolske...mechanik elektrotechnik....bac...</td>\n",
       "      <td>nemam, ale zevraj v aprili cosi bude....tak tr...</td>\n",
       "      <td>mam vazny vztah,este vaznejzi ako vazny...</td>\n",
       "    </tr>\n",
       "    <tr>\n",
       "      <th>17</th>\n",
       "      <td>46</td>\n",
       "      <td>0.0</td>\n",
       "      <td>21.0</td>\n",
       "      <td>zakladne, , stredoskolske</td>\n",
       "      <td>chcem 3 deti</td>\n",
       "      <td>slobodny(a)</td>\n",
       "    </tr>\n",
       "    <tr>\n",
       "      <th>18</th>\n",
       "      <td>21</td>\n",
       "      <td>0.0</td>\n",
       "      <td>17.0</td>\n",
       "      <td>zakladne</td>\n",
       "      <td>hmm deti by som do buducnosti cela mat aspon 3...</td>\n",
       "      <td>slobodny(a)</td>\n",
       "    </tr>\n",
       "  </tbody>\n",
       "</table>\n",
       "</div>"
      ],
      "text/plain": [
       "    user_id  gender   age                       completed_level_of_education  \\\n",
       "1         2     0.0   0.0  zakladne, ale som uz na strednej skole dufam z...   \n",
       "2        16     1.0  23.0                      coskoro 24.5 alebo 31.9    :d   \n",
       "11       32     1.0  21.0  stredoskolske...mechanik elektrotechnik....bac...   \n",
       "17       46     0.0  21.0                          zakladne, , stredoskolske   \n",
       "18       21     0.0  17.0                                           zakladne   \n",
       "\n",
       "                                             children  \\\n",
       "1   no budu a tak chcem 2 deti staci a tak ked bud...   \n",
       "2                       casom ak budem este vladat :d   \n",
       "11  nemam, ale zevraj v aprili cosi bude....tak tr...   \n",
       "17                                       chcem 3 deti   \n",
       "18  hmm deti by som do buducnosti cela mat aspon 3...   \n",
       "\n",
       "                                marital_status  \n",
       "1                                  slobodny(a)  \n",
       "2                                  slobodny(a)  \n",
       "11  mam vazny vztah,este vaznejzi ako vazny...  \n",
       "17                                 slobodny(a)  \n",
       "18                                 slobodny(a)  "
      ]
     },
     "metadata": {},
     "output_type": "display_data"
    }
   ],
   "source": [
    "# display first few rows after filtering\n",
    "display(profiles_cleaned.head())"
   ]
  },
  {
   "cell_type": "code",
   "execution_count": 15,
   "metadata": {},
   "outputs": [
    {
     "data": {
      "text/plain": [
       "array(['no budu a tak chcem 2 deti staci a tak ked budeme vladat tak bude aj viac co ja viem co ma v zivote postretne:d',\n",
       "       'casom ak budem este vladat :d',\n",
       "       'nemam, ale zevraj v aprili cosi bude....tak treba chodit do polska na plienky... :)',\n",
       "       ..., 'zatial ziadne. dufam, ze to nie je konecny stav  :)',\n",
       "       'mam 2, uz dospele', 'uz vyleteli z hniezda:)'], dtype=object)"
      ]
     },
     "metadata": {},
     "output_type": "display_data"
    }
   ],
   "source": [
    "display(profiles_cleaned[\"children\"].unique())\n"
   ]
  },
  {
   "cell_type": "code",
   "execution_count": 16,
   "metadata": {},
   "outputs": [
    {
     "data": {
      "text/plain": [
       "array([0., 1.])"
      ]
     },
     "metadata": {},
     "output_type": "display_data"
    }
   ],
   "source": [
    "display(profiles_cleaned[\"gender\"].unique())"
   ]
  },
  {
   "cell_type": "code",
   "execution_count": 17,
   "metadata": {},
   "outputs": [
    {
     "data": {
      "text/plain": [
       "array([  0.,  23.,  21.,  17.,  22.,  19.,  26.,  20.,  16.,  18.,  29.,\n",
       "        24.,  27.,  30.,  25.,  15.,  28.,  13.,  14.,  12.,  37.,  32.,\n",
       "        47.,  36.,  33.,  43.,  31.,  42.,  11.,   7., 111.,  10.,  38.,\n",
       "        48.,  35.,  46.,  52.,  44.,  34.,  41.,  40.,  39.,  49.,  45.,\n",
       "         9.,   4., 112.,  56.,   1.,   8., 102.,  96.,  77.,  53.,  50.,\n",
       "        71.,  91.,   3.,  51., 110.,  80.,   2.,  55.,  57.,  90., 100.,\n",
       "        67., 104.,  76.,  86.,  88.,  54.,  62.,  60.,  66.,  99., 101.,\n",
       "        83.,  59.,  82.,   5.,  79.,  58.,   6.,  70.,  68.,  89.,  63.,\n",
       "        92.,  98.,  97.,  64.,  61.,  81., 106.,  94., 107.,  65.,  87.,\n",
       "       108.,  93.,  72., 103.,  69.,  84.,  73.,  74.,  75., 105.,  95.,\n",
       "        85.,  78.])"
      ]
     },
     "metadata": {},
     "output_type": "display_data"
    }
   ],
   "source": [
    "display(profiles_cleaned[\"age\"].unique())"
   ]
  },
  {
   "cell_type": "code",
   "execution_count": 18,
   "metadata": {},
   "outputs": [
    {
     "data": {
      "text/plain": [
       "array(['zakladne, ale som uz na strednej skole dufam ze ju spravim',\n",
       "       'coskoro 24.5 alebo 31.9    :d',\n",
       "       'stredoskolske...mechanik elektrotechnik....bacha na mna', ...,\n",
       "       's maturitov',\n",
       "       'vzdelanie,no neucil som sa nikdy,vzdy zlaty stred..mam odbornu profesiu,mechanik strojov a zariadeni',\n",
       "       'kompletne 3. stupen vysokoskolskeho'], dtype=object)"
      ]
     },
     "metadata": {},
     "output_type": "display_data"
    }
   ],
   "source": [
    "display(profiles_cleaned[\"completed_level_of_education\"].unique())"
   ]
  },
  {
   "cell_type": "code",
   "execution_count": 19,
   "metadata": {},
   "outputs": [
    {
     "data": {
      "text/plain": [
       "array(['slobodny(a)', 'mam vazny vztah,este vaznejzi ako vazny...',\n",
       "       'stastny...:)', ..., 'mam vazny vztah,z laskou mojho zivota',\n",
       "       'rozvedeny(a), cize slobodny', 'rozvedeny(a), stastne rozvedena:)'],\n",
       "      dtype=object)"
      ]
     },
     "metadata": {},
     "output_type": "display_data"
    }
   ],
   "source": [
    "display(profiles_cleaned[\"marital_status\"].unique())"
   ]
  },
  {
   "cell_type": "code",
   "execution_count": 20,
   "metadata": {},
   "outputs": [
    {
     "name": "stdout",
     "output_type": "stream",
     "text": [
      "user_id                         0\n",
      "gender                          0\n",
      "completed_level_of_education    0\n",
      "children                        0\n",
      "marital_status                  0\n",
      "age_group                       0\n",
      "dtype: int64\n"
     ]
    }
   ],
   "source": [
    "# define valid age range\n",
    "profiles_cleaned = profiles_cleaned[(profiles_cleaned[\"age\"] >= 15) & (profiles_cleaned[\"age\"] <= 100)]\n",
    "\n",
    "# define Eurobarometer age bins\n",
    "age_bins = [15, 18, 25, 44, 64, 100]\n",
    "age_labels = [\"15-18\", \"19-25\", \"26-44\", \"45-64\", \"65+\"]\n",
    "profiles_cleaned[\"age_group\"] = pd.cut(profiles_cleaned[\"age\"], bins=age_bins, labels=age_labels, right=True)\n",
    "\n",
    "# drop rows where age_group is NaN\n",
    "profiles_cleaned = profiles_cleaned.dropna(subset=[\"age_group\"])\n",
    "\n",
    "# drop original age column since we now have a standardized grouping\n",
    "profiles_cleaned.drop(columns=[\"age\"], inplace=True)\n",
    "\n",
    "# check if any missing values remain\n",
    "print(profiles_cleaned.isna().sum())\n"
   ]
  },
  {
   "cell_type": "code",
   "execution_count": 21,
   "metadata": {},
   "outputs": [],
   "source": [
    "# map gender values\n",
    "profiles_cleaned[\"gender\"] = profiles_cleaned[\"gender\"].map({0.0: \"Female\", 1.0: \"Male\"})"
   ]
  },
  {
   "cell_type": "code",
   "execution_count": 22,
   "metadata": {},
   "outputs": [
    {
     "name": "stdout",
     "output_type": "stream",
     "text": [
      "19-25    41.689065\n",
      "26-44    35.709168\n",
      "15-18    17.696967\n",
      "45-64     4.742841\n",
      "65+       0.161959\n",
      "Name: age_group, dtype: float64\n"
     ]
    },
    {
     "name": "stderr",
     "output_type": "stream",
     "text": [
      "/var/folders/yy/wn0z53b977q818d7g3560t400000gn/T/ipykernel_6431/1147512913.py:10: FutureWarning: \n",
      "\n",
      "Passing `palette` without assigning `hue` is deprecated and will be removed in v0.14.0. Assign the `x` variable to `hue` and set `legend=False` for the same effect.\n",
      "\n",
      "  sns.barplot(x=age_distribution.index, y=age_distribution.values, palette=\"Blues_r\")\n"
     ]
    },
    {
     "data": {
      "image/png": "[encoded data removed]",
      "text/plain": [
       "<Figure size 800x500 with 1 Axes>"
      ]
     },
     "metadata": {},
     "output_type": "display_data"
    }
   ],
   "source": [
    "import matplotlib.pyplot as plt\n",
    "import seaborn as sns\n",
    "\n",
    "# count distribution of age groups\n",
    "age_distribution = profiles_cleaned[\"age_group\"].value_counts(normalize=True) * 100\n",
    "print(age_distribution)\n",
    "\n",
    "# plot age distribution\n",
    "plt.figure(figsize=(8, 5))\n",
    "sns.barplot(x=age_distribution.index, y=age_distribution.values, palette=\"Blues_r\")\n",
    "plt.xlabel(\"Age Group\")\n",
    "plt.ylabel(\"Percentage (%)\")\n",
    "plt.title(\"Distribution of Age Groups in Pokec (Aligned with Eurobarometer)\")\n",
    "plt.show()"
   ]
  },
  {
   "cell_type": "code",
   "execution_count": 23,
   "metadata": {},
   "outputs": [
    {
     "name": "stdout",
     "output_type": "stream",
     "text": [
      "Female    51.12351\n",
      "Male      48.87649\n",
      "Name: gender, dtype: float64\n"
     ]
    },
    {
     "name": "stderr",
     "output_type": "stream",
     "text": [
      "/var/folders/yy/wn0z53b977q818d7g3560t400000gn/T/ipykernel_6431/310349551.py:7: FutureWarning: \n",
      "\n",
      "Passing `palette` without assigning `hue` is deprecated and will be removed in v0.14.0. Assign the `x` variable to `hue` and set `legend=False` for the same effect.\n",
      "\n",
      "  sns.barplot(x=gender_distribution.index, y=gender_distribution.values, palette=\"coolwarm\")\n"
     ]
    },
    {
     "data": {
      "image/png": "[encoded data removed]",
      "text/plain": [
       "<Figure size 600x400 with 1 Axes>"
      ]
     },
     "metadata": {},
     "output_type": "display_data"
    }
   ],
   "source": [
    "# count distribution of gender\n",
    "gender_distribution = profiles_cleaned[\"gender\"].value_counts(normalize=True) * 100\n",
    "print(gender_distribution)\n",
    "\n",
    "# plot gender distribution\n",
    "plt.figure(figsize=(6, 4))\n",
    "sns.barplot(x=gender_distribution.index, y=gender_distribution.values, palette=\"coolwarm\")\n",
    "plt.xlabel(\"Gender\")\n",
    "plt.ylabel(\"Percentage (%)\")\n",
    "plt.title(\"Gender Distribution in Pokec (Aligned with Eurobarometer)\")\n",
    "plt.show()"
   ]
  },
  {
   "cell_type": "code",
   "execution_count": 24,
   "metadata": {},
   "outputs": [],
   "source": [
    "from sentence_transformers import SentenceTransformer\n",
    "\n",
    "# load SBERT model for encoding text\n",
    "model = SentenceTransformer('all-MiniLM-L6-v2')"
   ]
  },
  {
   "cell_type": "code",
   "execution_count": 25,
   "metadata": {},
   "outputs": [
    {
     "name": "stdout",
     "output_type": "stream",
     "text": [
      "Processed 10000 / 230305 rows\n",
      "Processed 20000 / 230305 rows\n",
      "Processed 30000 / 230305 rows\n",
      "Processed 40000 / 230305 rows\n",
      "Processed 50000 / 230305 rows\n",
      "Processed 60000 / 230305 rows\n",
      "Processed 70000 / 230305 rows\n",
      "Processed 80000 / 230305 rows\n",
      "Processed 90000 / 230305 rows\n",
      "Processed 100000 / 230305 rows\n",
      "Processed 110000 / 230305 rows\n",
      "Processed 120000 / 230305 rows\n",
      "Processed 130000 / 230305 rows\n",
      "Processed 140000 / 230305 rows\n",
      "Processed 150000 / 230305 rows\n",
      "Processed 160000 / 230305 rows\n",
      "Processed 170000 / 230305 rows\n",
      "Processed 180000 / 230305 rows\n",
      "Processed 190000 / 230305 rows\n",
      "Processed 200000 / 230305 rows\n",
      "Processed 210000 / 230305 rows\n",
      "Processed 220000 / 230305 rows\n",
      "Processed 230000 / 230305 rows\n",
      "Processed 230305 / 230305 rows\n",
      "Processed 10000 / 230305 rows\n",
      "Processed 20000 / 230305 rows\n",
      "Processed 30000 / 230305 rows\n",
      "Processed 40000 / 230305 rows\n",
      "Processed 50000 / 230305 rows\n",
      "Processed 60000 / 230305 rows\n",
      "Processed 70000 / 230305 rows\n",
      "Processed 80000 / 230305 rows\n",
      "Processed 90000 / 230305 rows\n",
      "Processed 100000 / 230305 rows\n",
      "Processed 110000 / 230305 rows\n",
      "Processed 120000 / 230305 rows\n",
      "Processed 130000 / 230305 rows\n",
      "Processed 140000 / 230305 rows\n",
      "Processed 150000 / 230305 rows\n",
      "Processed 160000 / 230305 rows\n",
      "Processed 170000 / 230305 rows\n",
      "Processed 180000 / 230305 rows\n",
      "Processed 190000 / 230305 rows\n",
      "Processed 200000 / 230305 rows\n",
      "Processed 210000 / 230305 rows\n",
      "Processed 220000 / 230305 rows\n",
      "Processed 230000 / 230305 rows\n",
      "Processed 230305 / 230305 rows\n",
      "Processed 10000 / 230305 rows\n",
      "Processed 20000 / 230305 rows\n",
      "Processed 30000 / 230305 rows\n",
      "Processed 40000 / 230305 rows\n",
      "Processed 50000 / 230305 rows\n",
      "Processed 60000 / 230305 rows\n",
      "Processed 70000 / 230305 rows\n",
      "Processed 80000 / 230305 rows\n",
      "Processed 90000 / 230305 rows\n",
      "Processed 100000 / 230305 rows\n",
      "Processed 110000 / 230305 rows\n",
      "Processed 120000 / 230305 rows\n",
      "Processed 130000 / 230305 rows\n",
      "Processed 140000 / 230305 rows\n",
      "Processed 150000 / 230305 rows\n",
      "Processed 160000 / 230305 rows\n",
      "Processed 170000 / 230305 rows\n",
      "Processed 180000 / 230305 rows\n",
      "Processed 190000 / 230305 rows\n",
      "Processed 200000 / 230305 rows\n",
      "Processed 210000 / 230305 rows\n",
      "Processed 220000 / 230305 rows\n",
      "Processed 230000 / 230305 rows\n",
      "Processed 230305 / 230305 rows\n"
     ]
    }
   ],
   "source": [
    "import torch\n",
    "\n",
    "# function to encode text responses in batches\n",
    "def encode_text_column_batched(column, batch_size=10000):\n",
    "    encoded_texts = []\n",
    "    for i in range(0, len(column), batch_size):\n",
    "        batch = column.iloc[i : i + batch_size].astype(str).tolist()\n",
    "        batch_embeddings = model.encode(batch, convert_to_tensor=True)\n",
    "        encoded_texts.append(batch_embeddings)\n",
    "        print(f\"Processed {i + len(batch)} / {len(column)} rows\")  # track progress\n",
    "    return torch.cat(encoded_texts, dim=0)\n",
    "\n",
    "# encode in batches\n",
    "education_embeddings = encode_text_column_batched(profiles_cleaned[\"completed_level_of_education\"])\n",
    "children_embeddings = encode_text_column_batched(profiles_cleaned[\"children\"])\n",
    "marital_status_embeddings = encode_text_column_batched(profiles_cleaned[\"marital_status\"])"
   ]
  },
  {
   "cell_type": "code",
   "execution_count": 26,
   "metadata": {},
   "outputs": [
    {
     "name": "stderr",
     "output_type": "stream",
     "text": [
      "/Users/lijiayu/anaconda3/lib/python3.11/site-packages/sklearn/cluster/_kmeans.py:870: FutureWarning: The default value of `n_init` will change from 10 to 'auto' in 1.4. Set the value of `n_init` explicitly to suppress the warning\n",
      "  warnings.warn(\n",
      "/Users/lijiayu/anaconda3/lib/python3.11/site-packages/sklearn/cluster/_kmeans.py:870: FutureWarning: The default value of `n_init` will change from 10 to 'auto' in 1.4. Set the value of `n_init` explicitly to suppress the warning\n",
      "  warnings.warn(\n",
      "/Users/lijiayu/anaconda3/lib/python3.11/site-packages/sklearn/cluster/_kmeans.py:870: FutureWarning: The default value of `n_init` will change from 10 to 'auto' in 1.4. Set the value of `n_init` explicitly to suppress the warning\n",
      "  warnings.warn(\n"
     ]
    }
   ],
   "source": [
    "# convert embeddings from tensor to numpy (move to cpu first if using MPS/GPU)\n",
    "education_embeddings_np = education_embeddings.cpu().numpy()\n",
    "children_embeddings_np = children_embeddings.cpu().numpy()\n",
    "marital_status_embeddings_np = marital_status_embeddings.cpu().numpy()\n",
    "\n",
    "# fit KMeans on converted NumPy arrays\n",
    "education_clusters_refined = KMeans(n_clusters=5, random_state=42).fit_predict(education_embeddings_np)\n",
    "children_clusters_refined = KMeans(n_clusters=3, random_state=42).fit_predict(children_embeddings_np)  # updated\n",
    "marital_clusters_refined = KMeans(n_clusters=4, random_state=42).fit_predict(marital_status_embeddings_np)"
   ]
  },
  {
   "cell_type": "code",
   "execution_count": 27,
   "metadata": {},
   "outputs": [],
   "source": [
    "profiles_cleaned[\"education_cluster\"] = education_clusters_refined\n",
    "profiles_cleaned[\"children_cluster\"] = children_clusters_refined\n",
    "profiles_cleaned[\"marital_cluster\"] = marital_clusters_refined"
   ]
  },
  {
   "cell_type": "code",
   "execution_count": 28,
   "metadata": {},
   "outputs": [
    {
     "name": "stdout",
     "output_type": "stream",
     "text": [
      "Education Cluster 0:\n",
      "['zakladne, stredoskolske a na vysokom sa pracuje', 'vysokoskolske, ale akosika sa na to necitim!!', 'stredoskolske, uz nestudujem,len s nostalgiou spominam:-)))a placem kazdy vecer do vankusa:-)))))', 'neustale sa ucim', 'zakladne, zakladna skola 4 ever..., stredoskolske, akurat ze vysoka budova:d', 'maturita', 'napr.: zakladne, ucnovske, vysokoskolske, stredoskolske', 'bakalarske', 'd', 'superior']\n",
      "\n",
      "\n",
      "Education Cluster 2:\n",
      "['zakladne', 'zakladne', 'zakladne', 'zakladne', 'zakladne', 'zakladne', 'zakladne', 'zakladne, stredoskolske', 'zakladne', 'zakladne, aj to len tak tak']\n",
      "\n",
      "\n",
      "Education Cluster 1:\n",
      "['stredoskolske', 'stredoskolske', 'stredoskolske', 'stredoskolske', 'stredoskolske', 'stredoskolske', 'stredoskolske', 'stredoskolske', 'stredoskolske', 'stredoskolske']\n",
      "\n",
      "\n",
      "Education Cluster 3:\n",
      "['ucnovske', 'ucnovske', 'ucnovske', 'ucnovske', 'ucnovske', 'ucnovske', 'ucnovske', 'ucnovske', 'ucnovske', 'ucnovske']\n",
      "\n",
      "\n",
      "Education Cluster 4:\n",
      "['zakladne, stredoskolske, vysokoskolske', 'vysokoskolske', 'vysokoskolske', 'bakalarske, vysokoskolske', 'vysokoskolske', 'vysokoskolske', 'vysokoskolske', 'vysokoskolske', 'vysokoskolske', 'vysokoskolske']\n",
      "\n",
      "\n"
     ]
    }
   ],
   "source": [
    "# check education clusters\n",
    "for cluster in profiles_cleaned[\"education_cluster\"].unique():\n",
    "    print(f\"Education Cluster {cluster}:\")\n",
    "    print(profiles_cleaned[profiles_cleaned[\"education_cluster\"] == cluster][\"completed_level_of_education\"].sample(10, random_state=42).tolist())\n",
    "    print(\"\\n\")"
   ]
  },
  {
   "cell_type": "code",
   "execution_count": 29,
   "metadata": {},
   "outputs": [
    {
     "name": "stdout",
     "output_type": "stream",
     "text": [
      "Children Cluster 1:\n",
      "['11', 'tiez ine info nepodavam..', 'mam rada deticky preto som chcela byt pediatrickou ale nevydalo tak som chemicka:-)', 'nerozumiem....dalsia otazka', 'su fajn len treba vediet ako s nimi.', 'work in progress', 'eeee deti to nie', 'nemaaam ale chcem mat najviac tri...', 'naco deti???', '2']\n",
      "\n",
      "\n",
      "Children Cluster 0:\n",
      "['chcem mat deti', 'v buducnosti by som chcela mat', 'v buducnosti chcem mat', 'v buducnosti chcem mat', 'nemam chcem mat dve :d', 'v buducnosti chcem mat deti', 'v buducnosti chcem mat', 'v buducnosti chcem mat', 'v buducnosti chcem mat', 'uz by som nechcel(a) mat']\n",
      "\n",
      "\n",
      "Children Cluster 2:\n",
      "['nemam', 'nemam', 'nemam', 'nemam', 'nemam', 'nemam', 'mam 9', 'nemam', 'nemam', 'nemam']\n",
      "\n",
      "\n"
     ]
    }
   ],
   "source": [
    "# check children clusters\n",
    "for cluster in profiles_cleaned[\"children_cluster\"].unique():\n",
    "    print(f\"Children Cluster {cluster}:\")\n",
    "    print(profiles_cleaned[profiles_cleaned[\"children_cluster\"] == cluster][\"children\"].sample(10, random_state=42).tolist())\n",
    "    print(\"\\n\")\n"
   ]
  },
  {
   "cell_type": "code",
   "execution_count": 30,
   "metadata": {},
   "outputs": [
    {
     "name": "stdout",
     "output_type": "stream",
     "text": [
      "Marital Cluster 0:\n",
      "['slobodny(a)', 'slobodny', 'slobodna', 'slobodny(a)', 'slobodny(a)', 'slobodny(a)', 'slobodny(a)', 'slobodny(a)', 'slobodny(a)', 'slobodna']\n",
      "\n",
      "\n",
      "Marital Cluster 3:\n",
      "['mam vztah', 'mam vazny vztah', 'volna :)', 'free (s)', 'zenaty nacisto', 'x', 'mam vazny vztah, trva to 6 rokov a neplanujem to ukoncit', 'vydata...zatial stastne....', 'nezadana.', 'slobodny(a), kamoska vravi, ze kym nema prsten na prste, tak je slobodna..ja som tiez slobodna, ale v mojom zivote je niekto, koho velmi lubim..']\n",
      "\n",
      "\n",
      "Marital Cluster 1:\n",
      "['zenaty (vydata)', 'vydata', 'zenaty (vydata)', 'zenaty (vydata)', 'zenaty (vydata)', 'zenaty', 'zenaty (vydata)', 'zenaty (vydata)', 'zenaty (vydata)', 'zenaty (vydata)']\n",
      "\n",
      "\n",
      "Marital Cluster 2:\n",
      "['rozvedeny', 'rozvedeny(a)', 'rozvedeny(a)', 'rozvedeny(a)', 'rozvedeny(a)', 'rozvedeny(a)', 'rozvedeny(a)', 'rozvedena', 'rozvedeny(a)', 'rozvedeny(a)']\n",
      "\n",
      "\n"
     ]
    }
   ],
   "source": [
    "# check marital status clusters\n",
    "for cluster in profiles_cleaned[\"marital_cluster\"].unique():\n",
    "    print(f\"Marital Cluster {cluster}:\")\n",
    "    print(profiles_cleaned[profiles_cleaned[\"marital_cluster\"] == cluster][\"marital_status\"].sample(10, random_state=42).tolist())\n",
    "    print(\"\\n\")"
   ]
  },
  {
   "cell_type": "code",
   "execution_count": 31,
   "metadata": {},
   "outputs": [],
   "source": [
    "# preserve original text before applying clustering-based mapping\n",
    "profiles_cleaned[\"marital_status_original\"] = profiles_cleaned[\"marital_status\"]\n",
    "\n",
    "# assign categories based on clustering first\n",
    "education_cluster_mapping = {\n",
    "    0: \"Middle\",  # Mostly 'stredoskolske'\n",
    "    1: \"Low\",     # Mostly 'zakladne'\n",
    "    2: \"Other Unclear Responses\",  # Mixed unclear responses\n",
    "    3: \"Vocational\",  # Mostly 'ucnovske'\n",
    "    4: \"High\"     # Mostly 'vysokoskolske'\n",
    "}\n",
    "\n",
    "children_cluster_mapping = {\n",
    "    0: \"Yes\",  # Mostly mentions of having children\n",
    "    1: \"No\",   # Mostly mentions of future plans or no children\n",
    "    2: \"Other Unclear Responses\"  # Mixed responses\n",
    "}\n",
    "\n",
    "marital_cluster_mapping = {\n",
    "    0: \"Single\",  \n",
    "    1: \"Married\",  \n",
    "    2: \"Divorced or Widowed\",  \n",
    "    3: \"Other Unclear Responses\"  # Contains mixed responses, relationships, unclear responses\n",
    "}\n",
    "\n",
    "# apply cluster-based categorization\n",
    "profiles_cleaned[\"education_level\"] = profiles_cleaned[\"education_cluster\"].map(education_cluster_mapping)\n",
    "profiles_cleaned[\"children_status\"] = profiles_cleaned[\"children_cluster\"].map(children_cluster_mapping)\n",
    "profiles_cleaned[\"marital_status\"] = profiles_cleaned[\"marital_cluster\"].map(marital_cluster_mapping)"
   ]
  },
  {
   "cell_type": "code",
   "execution_count": 32,
   "metadata": {},
   "outputs": [],
   "source": [
    "# Fix misclassified High Education cases\n",
    "profiles_cleaned.loc[\n",
    "    profiles_cleaned[\"completed_level_of_education\"].str.contains(\n",
    "        r\"\\bvs\\b|terciaria|univerzita|bakalarske|doktorandske|mgr|ing|phd\", \n",
    "        case=False, na=False\n",
    "    ) & (profiles_cleaned[\"education_level\"] != \"Vocational\"),  # Ensure no misclassification\n",
    "    \"education_level\"\n",
    "] = \"High\"\n",
    "\n",
    "# Fix misclassified Low Education cases\n",
    "profiles_cleaned.loc[\n",
    "    profiles_cleaned[\"completed_level_of_education\"].str.contains(\n",
    "        r\"\\bzakladne\\b|zakladka|zakladnu školu\", case=False, na=False\n",
    "    ),\n",
    "    \"education_level\"\n",
    "] = \"Low\"\n",
    "\n",
    "# Fix misclassified Vocational cases\n",
    "profiles_cleaned.loc[\n",
    "    profiles_cleaned[\"completed_level_of_education\"].str.contains(\n",
    "        r\"ucnovske|prakticka|odborna|remeslo|stredna odborna\", case=False, na=False\n",
    "    ),\n",
    "    \"education_level\"\n",
    "] = \"Vocational\"\n",
    "\n",
    "# Fix misclassified children cases\n",
    "profiles_cleaned.loc[\n",
    "    profiles_cleaned[\"children\"].str.contains(\n",
    "        r\"\\bnemam\\b|nechcem|neplanujem deti\", case=False, na=False\n",
    "    ),\n",
    "    \"children_status\"\n",
    "] = \"No\"\n",
    "\n",
    "profiles_cleaned.loc[\n",
    "    profiles_cleaned[\"children\"].str.contains(\n",
    "        r\"\\bmam\\b.*\\bdeti\\b|\\bmam\\b.*\\bsyna\\b|\\bmam\\b.*\\bdceru\\b|\\bmam\\b.*\\bdieta\\b|\\bmam\\b.*\\bchlapca\\b\",\n",
    "        case=False, na=False\n",
    "    ),\n",
    "    \"children_status\"\n",
    "] = \"Yes\"\n",
    "\n",
    "# Fix misclassified marital status cases\n",
    "profiles_cleaned.loc[\n",
    "    profiles_cleaned[\"marital_status_original\"].str.contains(\n",
    "        r\"\\bvdovec\\b|\\bvdova\\b\", case=False, na=False\n",
    "    ),\n",
    "    \"marital_status\"\n",
    "] = \"Divorced or Widowed\"\n",
    "\n",
    "profiles_cleaned.loc[\n",
    "    profiles_cleaned[\"marital_status_original\"].str.contains(\n",
    "        r\"\\bzasnubeny\\b|\\bsnubena\\b\", case=False, na=False\n",
    "    ),\n",
    "    \"marital_status\"\n",
    "] = \"Cohabiting\""
   ]
  },
  {
   "cell_type": "code",
   "execution_count": 33,
   "metadata": {},
   "outputs": [],
   "source": [
    "def refine_education(text, current_category):\n",
    "    \"\"\"Refines education category after clustering, ensuring better classification of unclear responses.\"\"\"\n",
    "    text = text.lower().strip()\n",
    "\n",
    "    # If already assigned a category, return it\n",
    "    if current_category != \"Other Unclear Responses\":\n",
    "        return current_category\n",
    "\n",
    "    # High Education (University Level)\n",
    "    if any(word in text for word in [\n",
    "        \"vysokoskolske\", \"univerzita\", \"bakalarske\", \"doktorandske\", \"mgr\", \"ing\", \"phd\"\n",
    "    ]):\n",
    "        return \"High\"\n",
    "\n",
    "    # Middle Education (High School Level)\n",
    "    elif any(word in text for word in [\n",
    "        \"stredoskolske\", \"maturita\", \"gymnazium\", \"akademia\"\n",
    "    ]):\n",
    "        return \"Middle\"\n",
    "\n",
    "    # Vocational Education\n",
    "    elif any(word in text for word in [\n",
    "        \"ucnovske\", \"prakticka\", \"odborna\", \"remeslo\", \"stredna odborna\", \"stredná odborná škola\"\n",
    "    ]):\n",
    "        return \"Vocational\"\n",
    "\n",
    "    # Low Education (Elementary Level)\n",
    "    elif any(word in text for word in [\n",
    "        \"zakladne\", \"zakladka\", \"zs\", \"ms\"\n",
    "    ]):\n",
    "        return \"Low\"\n",
    "\n",
    "    # No Education\n",
    "    elif any(word in text for word in [\n",
    "        \"ziadne vzdelanie\", \"bez skoly\", \"bez vzdelania\", \"ziadne skoly\", \"nemam vzdelanie\"\n",
    "    ]):\n",
    "        return \"No education\"\n",
    "\n",
    "    # Handle \"Studying\" Cases Using Context\n",
    "    elif any(word in text for word in [\n",
    "        \"studujem\", \"momentálne studujem\", \"este studujem\"\n",
    "    ]):\n",
    "        if \"vs\" in text or \"univerzita\" in text:  # Studying at university level\n",
    "            return \"High\"\n",
    "        elif \"maturitu dorobim\" in text or \"stredna\" in text:  # Studying in high school\n",
    "            return \"Middle\"\n",
    "        elif \"zakladna\" in text:  # Studying at elementary level\n",
    "            return \"Low\"\n",
    "        elif \"ucnovske\" in text or \"stredná odborná\" in text:  # Studying vocational education\n",
    "            return \"Vocational\"\n",
    "\n",
    "    # If none of the above applies, assign to \"Other Unclear Responses\"\n",
    "    return \"Other Unclear Responses\""
   ]
  },
  {
   "cell_type": "code",
   "execution_count": 34,
   "metadata": {},
   "outputs": [],
   "source": [
    "def refine_marital(text, current_category, children_status):\n",
    "    \"\"\"refines marital status after clustering, ensuring better handling of cohabiting, single parents, and unclear responses.\"\"\"\n",
    "    text = text.lower().strip()\n",
    "\n",
    "    if current_category == \"other unclear responses\":\n",
    "        if any(word in text for word in [\"zenaty\", \"vydata\", \"manzel\", \"manzelka\", \"moj manzel\", \"mam zenu\", \"stastne zenaty\"]):\n",
    "            return \"married\"\n",
    "        elif any(word in text for word in [\"vztah\", \"partner\", \"byvam s\", \"zadana\", \"spolu zijeme\", \"mam vazny vztah\", \n",
    "                                           \"zasnubeny\", \"snubenie\", \"frajer\", \"frajerka\", \"priatel\", \"snubenica\", \"drahý\", \"drahá\"]):\n",
    "            return \"cohabiting\"\n",
    "        elif any(word in text for word in [\"rozvedeny\", \"rozvedena\", \"ex-manzel\", \"ex-manželka\", \"expartner\", \"vdovec\", \"vdova\"]):\n",
    "            return \"divorced or widowed\"\n",
    "        elif any(word in text for word in [\"slobodny\", \"single\", \"nezadany\", \"nemam partnera\"]):\n",
    "            return \"single\"\n",
    "\n",
    "    # reassign single parents to divorced or widowed\n",
    "    if current_category == \"single\" and children_status == \"yes\":\n",
    "        return \"divorced or widowed\"\n",
    "\n",
    "    return current_category\n"
   ]
  },
  {
   "cell_type": "code",
   "execution_count": 35,
   "metadata": {},
   "outputs": [],
   "source": [
    "def refine_children(text, current_category):\n",
    "    \"\"\"Refines children status after clustering.\"\"\"\n",
    "    text = text.lower().strip()\n",
    "\n",
    "    # If already assigned a category, return it\n",
    "    if current_category != \"Other Unclear Responses\":\n",
    "        return current_category\n",
    "\n",
    "    # Clearly has children (explicit mentions of children, numbers, or relationships)\n",
    "    if any(char.isdigit() for char in text) or any(word in text for word in [\n",
    "        \"mam deti\", \"mam dieta\", \"mam syna\", \"mam dceru\", \"mám jedno dieta\",\n",
    "        \"mam 2 deti\", \"mam troch synov\", \"som matka\", \"moje dieta\"\n",
    "    ]):\n",
    "        return \"Yes\"\n",
    "\n",
    "    # No children, future plans, or uncertainty\n",
    "    elif any(word in text for word in [\n",
    "        \"nemam\", \"ziadne\", \"nechcem\", \"v buducnosti\", \"zatial\", \n",
    "        \"mozno\", \"este neviem\", \"planujem\", \"asi ano\", \"uvidim\"\n",
    "    ]):\n",
    "        return \"No\"\n",
    "\n",
    "    # Humor, jokes, or emojis that do not indicate having children\n",
    "    elif any(word in text for word in [\":)\", \"zlate\", \"haha\", \"lol\", \"neznasam\", \"co deti?\"]):\n",
    "        return \"No\"\n",
    "\n",
    "    # Default to \"Other Unclear Responses\" if nothing matches\n",
    "    return \"Other Unclear Responses\""
   ]
  },
  {
   "cell_type": "code",
   "execution_count": 36,
   "metadata": {},
   "outputs": [],
   "source": [
    "# refine only unclear responses or incorrect mappings\n",
    "profiles_cleaned[\"education_level\"] = profiles_cleaned.apply(\n",
    "    lambda row: refine_education(row[\"completed_level_of_education\"], row[\"education_level\"]), axis=1\n",
    ")\n",
    "\n",
    "profiles_cleaned[\"children_status\"] = profiles_cleaned.apply(\n",
    "    lambda row: refine_children(row[\"children\"], row[\"children_status\"]), axis=1\n",
    ")\n",
    "\n",
    "profiles_cleaned[\"marital_status\"] = profiles_cleaned.apply(\n",
    "    lambda row: refine_marital(row[\"marital_status\"], row[\"marital_status\"], row[\"children_status\"]), axis=1\n",
    ")\n"
   ]
  },
  {
   "cell_type": "code",
   "execution_count": 37,
   "metadata": {},
   "outputs": [
    {
     "name": "stdout",
     "output_type": "stream",
     "text": [
      "Low                        149479\n",
      "Middle                      37391\n",
      "High                        27067\n",
      "Vocational                  15470\n",
      "Other Unclear Responses       898\n",
      "Name: education_level, dtype: int64\n",
      "No                         176190\n",
      "Yes                         40195\n",
      "Other Unclear Responses     13920\n",
      "Name: children_status, dtype: int64\n",
      "Single                     106245\n",
      "Other Unclear Responses     69564\n",
      "Married                     26291\n",
      "Divorced or Widowed         23477\n",
      "Cohabiting                   4728\n",
      "Name: marital_status, dtype: int64\n"
     ]
    }
   ],
   "source": [
    "# compare final category distributions\n",
    "print(profiles_cleaned[\"education_level\"].value_counts())\n",
    "print(profiles_cleaned[\"children_status\"].value_counts())\n",
    "print(profiles_cleaned[\"marital_status\"].value_counts())"
   ]
  },
  {
   "cell_type": "code",
   "execution_count": 38,
   "metadata": {},
   "outputs": [
    {
     "name": "stdout",
     "output_type": "stream",
     "text": [
      "Dataset size after removing unclear responses: 148919\n"
     ]
    }
   ],
   "source": [
    "# filter out rows where any column has \"Other Unclear Responses\"\n",
    "profiles_cleaned = profiles_cleaned[\n",
    "    (profiles_cleaned[\"education_level\"] != \"Other Unclear Responses\") &\n",
    "    (profiles_cleaned[\"children_status\"] != \"Other Unclear Responses\") &\n",
    "    (profiles_cleaned[\"marital_status\"] != \"Other Unclear Responses\")\n",
    "]\n",
    "\n",
    "# check new dataset size after removing unclear responses\n",
    "print(f\"Dataset size after removing unclear responses: {profiles_cleaned.shape[0]}\")"
   ]
  },
  {
   "cell_type": "code",
   "execution_count": 59,
   "metadata": {},
   "outputs": [
    {
     "name": "stdout",
     "output_type": "stream",
     "text": [
      "Final Education Level Distribution:\n",
      "Low           69.095951\n",
      "High          12.817035\n",
      "Middle        10.963007\n",
      "Vocational     7.124007\n",
      "Name: education_level, dtype: float64\n",
      "\n",
      "Final Children Status Distribution:\n",
      "No     79.210846\n",
      "Yes    20.789154\n",
      "Name: children_status, dtype: float64\n",
      "\n",
      "Final Marital Status Distribution:\n",
      "Single                 69.040216\n",
      "Married                14.869829\n",
      "Divorced or Widowed    13.204494\n",
      "Cohabiting              2.885461\n",
      "Name: marital_status, dtype: float64\n"
     ]
    }
   ],
   "source": [
    "# check final distributions after removing unclear responses\n",
    "print(\"Final Education Level Distribution:\")\n",
    "print(profiles_cleaned[\"education_level\"].value_counts(normalize=True) * 100)\n",
    "\n",
    "print(\"\\nFinal Children Status Distribution:\")\n",
    "print(profiles_cleaned[\"children_status\"].value_counts(normalize=True) * 100)\n",
    "\n",
    "print(\"\\nFinal Marital Status Distribution:\")\n",
    "print(profiles_cleaned[\"marital_status\"].value_counts(normalize=True) * 100)\n"
   ]
  },
  {
   "cell_type": "code",
   "execution_count": 62,
   "metadata": {},
   "outputs": [],
   "source": [
    "# filter profiles_benchmark to contain only matching user_ids from profiles_cleaned\n",
    "profiles_benchmark = profiles[profiles[\"user_id\"].isin(profiles_cleaned[\"user_id\"])].copy().dropna()\n",
    "\n",
    "\n",
    "# keep only raw textual data for alternative classification\n",
    "profiles_benchmark = profiles_benchmark[[\n",
    "    \"user_id\", \"completed_level_of_education\", \"children\", \"marital_status\"\n",
    "]]"
   ]
  },
  {
   "cell_type": "code",
   "execution_count": 63,
   "metadata": {},
   "outputs": [
    {
     "name": "stdout",
     "output_type": "stream",
     "text": [
      "Education Topics:\n",
      "Topic 0: zakladne, ucnovske, zatial, maturou, skolkarske, ss, materske, stolar, zumpar, sluzieb\n",
      "Topic 1: vysokoskolske, mam, ing, sos, sps, quot, magisterske, ake, podnikanie, ano\n",
      "Topic 2: stredoskolske, maturitou, sou, zatial, maturita, obchodne, elektrotechnicke, skvolka, ekonomicke, sous\n",
      "Topic 3: som, na, studujem, este, sa, ale, uz, skolka, je, strednej\n",
      "Topic 4: bakalarske, na, sa, aj, skola, pracuje, stredne, ale, vs, uz\n",
      "\n",
      "Children Topics:\n",
      "Topic 0: mat, chcem, buducnosti, mam, deti, este, neviem, nechcem, syna, rada\n",
      "Topic 1: zatial, ale, su, ziadne, na, sa, je, deti, nie, jedno\n",
      "Topic 2: nemam, som, dve, uz, este, chcel, aspon, ale, neviem, mozno\n",
      "\n",
      "Marital Topics:\n",
      "Topic 0: slobodny, nezadany, free, slobodni, bezdetny, aspon, bohu, chvala, bohuzial, forever\n",
      "Topic 1: vydata, zenaty, slobodna, rozvedena, zatial, single, stastna, od, nezadana, slobodne\n",
      "Topic 2: vdovec, vdova, zasnubeny, stastne, ale, som, uz, zadana, sa, rozvedena\n",
      "Topic 3: rozvedeny, mam, vztah, vazny, zasnubeny, sloboda, krat, priatela, vydaty, slobodnaa\n"
     ]
    }
   ],
   "source": [
    "from sklearn.decomposition import LatentDirichletAllocation\n",
    "from sklearn.feature_extraction.text import CountVectorizer\n",
    "\n",
    "def extract_lda_topics(feature_column, num_topics):\n",
    "    \"\"\"Extracts LDA topics, prints top words, and returns topic-word mappings.\"\"\"\n",
    "    \n",
    "    # Better Preprocessing: Remove stopwords, normalize text\n",
    "    vectorizer = CountVectorizer(max_features=5000, stop_words=\"english\")\n",
    "    X = vectorizer.fit_transform(profiles_benchmark[feature_column].astype(str))\n",
    "\n",
    "    lda = LatentDirichletAllocation(n_components=num_topics, random_state=42)\n",
    "    lda.fit(X)\n",
    "\n",
    "    feature_names = vectorizer.get_feature_names_out()\n",
    "    topic_word_mapping = {}\n",
    "\n",
    "    for topic_idx, topic in enumerate(lda.components_):\n",
    "        top_words = [feature_names[i] for i in topic.argsort()[:-10 - 1:-1]]\n",
    "        topic_word_mapping[topic_idx] = top_words\n",
    "        print(f\"Topic {topic_idx}: {', '.join(top_words)}\")\n",
    "\n",
    "    return topic_word_mapping\n",
    "\n",
    "print(\"Education Topics:\")\n",
    "education_topics = extract_lda_topics(\"completed_level_of_education\", 5)\n",
    "\n",
    "print(\"\\nChildren Topics:\")\n",
    "children_topics = extract_lda_topics(\"children\", 3)\n",
    "\n",
    "print(\"\\nMarital Topics:\")\n",
    "marital_topics = extract_lda_topics(\"marital_status\", 4)\n"
   ]
  },
  {
   "cell_type": "code",
   "execution_count": 67,
   "metadata": {},
   "outputs": [],
   "source": [
    "def assign_lda_topics(feature_column, num_topics, column_name):\n",
    "    \"\"\"Assigns LDA topic clusters to a feature column and stores them in profiles_benchmark.\"\"\"\n",
    "    vectorizer = CountVectorizer(max_features=5000, stop_words=\"english\")\n",
    "    X = vectorizer.fit_transform(profiles_benchmark[feature_column].astype(str))\n",
    "\n",
    "    lda = LatentDirichletAllocation(n_components=num_topics, random_state=42)\n",
    "    topic_distributions = lda.fit_transform(X)  # Get topic probabilities for each row\n",
    "    \n",
    "    # Assign the most probable topic to each row\n",
    "    profiles_benchmark[column_name] = topic_distributions.argmax(axis=1)\n",
    "\n",
    "# Assign numeric topics before mapping\n",
    "assign_lda_topics(\"completed_level_of_education\", 5, \"education_level_lda\")\n",
    "assign_lda_topics(\"children\", 3, \"children_status_lda\")\n",
    "assign_lda_topics(\"marital_status\", 4, \"marital_status_lda\")"
   ]
  },
  {
   "cell_type": "code",
   "execution_count": 68,
   "metadata": {},
   "outputs": [],
   "source": [
    "education_lda_mapping = {\n",
    "    0: \"Low\",          # \"zakladne\", \"ucnovske\", \"materske\", \"skolkarske\" → Basic/elementary\n",
    "    1: \"Vocational\",   # \"elektrotechnika\", \"praca\", \"sous\" → Vocational education\n",
    "    2: \"Middle\",       # \"stredoskolske\", \"maturita\", \"gymnazium\" → High school\n",
    "    3: \"High\",         # \"vysokoskolske\", \"bakalarske\", \"ing\" → University\n",
    "    4: \"Low\"   # \"studujem\", \"som\", \"este\" → Studying, needs context\n",
    "}\n",
    "\n",
    "children_lda_mapping = {\n",
    "    0: \"No\",  # \"mam\" (I have), \"dcerku\" (daughter), \"synceka\" (son) → Clearly has children\n",
    "    1: \"No\",   # \"nemam\" (I don’t have), \"neviem\" (I don’t know yet), \"mozno\" (maybe in future)\n",
    "    2: \"Yes\"   # \"mam\", \"deti\" (children), \"dve\" (two) → Clearly has children\n",
    "}\n",
    "\n",
    "marital_lda_mapping = {\n",
    "    0: \"Single\",                # \"slobodny\", \"nezadany\" (single, not in a relationship)\n",
    "    1: \"Married\",         # Mix of single and married words, needs manual review\n",
    "    2: \"Divorced or Widowed\",   # \"rozvedena\", \"vdovec\", but REMOVE \"zasnubeny\"\n",
    "    3: \"Cohabiting\"             # \"mam vztah\" (I have a relationship), \"vazny\" (serious relationship)\n",
    "}\n",
    "\n",
    "\n",
    "# Apply mappings\n",
    "profiles_benchmark[\"education_level_lda\"] = profiles_benchmark[\"education_level_lda\"].map(education_lda_mapping)\n",
    "profiles_benchmark[\"children_status_lda\"] = profiles_benchmark[\"children_status_lda\"].map(children_lda_mapping)\n",
    "profiles_benchmark[\"marital_status_lda\"] = profiles_benchmark[\"marital_status_lda\"].map(marital_lda_mapping)"
   ]
  },
  {
   "cell_type": "code",
   "execution_count": 69,
   "metadata": {},
   "outputs": [
    {
     "name": "stdout",
     "output_type": "stream",
     "text": [
      "Benchmark Education Level Distribution:\n",
      "Middle        43.098597\n",
      "Low           38.894298\n",
      "Vocational    10.277399\n",
      "High           7.729705\n",
      "Name: education_level_lda, dtype: float64 \n",
      "\n",
      "Benchmark Children Status Distribution:\n",
      "No     71.540905\n",
      "Yes    28.459095\n",
      "Name: children_status_lda, dtype: float64 \n",
      "\n",
      "Benchmark Marital Status Distribution:\n",
      "Single                 65.072959\n",
      "Married                18.057467\n",
      "Cohabiting              9.306401\n",
      "Divorced or Widowed     7.563172\n",
      "Name: marital_status_lda, dtype: float64 \n",
      "\n"
     ]
    }
   ],
   "source": [
    "print(\"Benchmark Education Level Distribution:\")\n",
    "print(profiles_benchmark[\"education_level_lda\"].value_counts(normalize=True) * 100, \"\\n\")\n",
    "\n",
    "print(\"Benchmark Children Status Distribution:\")\n",
    "print(profiles_benchmark[\"children_status_lda\"].value_counts(normalize=True) * 100, \"\\n\")\n",
    "\n",
    "print(\"Benchmark Marital Status Distribution:\")\n",
    "print(profiles_benchmark[\"marital_status_lda\"].value_counts(normalize=True) * 100, \"\\n\")\n"
   ]
  },
  {
   "cell_type": "code",
   "execution_count": 70,
   "metadata": {},
   "outputs": [
    {
     "name": "stdout",
     "output_type": "stream",
     "text": [
      "KL Divergence - Education: 0.3651\n",
      "KL Divergence - Children: 0.0165\n",
      "KL Divergence - Marital Status: 0.0634\n"
     ]
    }
   ],
   "source": [
    "import numpy as np\n",
    "from scipy.stats import entropy  # KL Divergence\n",
    "\n",
    "def align_distributions(lda_dist, cluster_dist):\n",
    "    \"\"\"Ensures both distributions have the same categories for KL Divergence.\"\"\"\n",
    "    all_categories = set(lda_dist.index).union(set(cluster_dist.index))\n",
    "    \n",
    "    # Reindex with all categories, filling missing ones with 0\n",
    "    lda_dist = lda_dist.reindex(all_categories, fill_value=0)\n",
    "    cluster_dist = cluster_dist.reindex(all_categories, fill_value=0)\n",
    "    \n",
    "    return lda_dist, cluster_dist\n",
    "\n",
    "# Align distributions before computing KL Divergence\n",
    "lda_education_dist, cluster_education_dist = align_distributions(\n",
    "    profiles_benchmark[\"education_level_lda\"].value_counts(normalize=True),\n",
    "    profiles_cleaned[\"education_level\"].value_counts(normalize=True)\n",
    ")\n",
    "\n",
    "lda_children_dist, cluster_children_dist = align_distributions(\n",
    "    profiles_benchmark[\"children_status_lda\"].value_counts(normalize=True),\n",
    "    profiles_cleaned[\"children_status\"].value_counts(normalize=True)\n",
    ")\n",
    "\n",
    "lda_marital_dist, cluster_marital_dist = align_distributions(\n",
    "    profiles_benchmark[\"marital_status_lda\"].value_counts(normalize=True),\n",
    "    profiles_cleaned[\"marital_status\"].value_counts(normalize=True)\n",
    ")\n",
    "\n",
    "# Compute KL Divergence\n",
    "kl_div_education = entropy(lda_education_dist, cluster_education_dist)\n",
    "kl_div_children = entropy(lda_children_dist, cluster_children_dist)\n",
    "kl_div_marital = entropy(lda_marital_dist, cluster_marital_dist)\n",
    "\n",
    "print(f\"KL Divergence - Education: {kl_div_education:.4f}\")\n",
    "print(f\"KL Divergence - Children: {kl_div_children:.4f}\")\n",
    "print(f\"KL Divergence - Marital Status: {kl_div_marital:.4f}\")\n"
   ]
  },
  {
   "cell_type": "code",
   "execution_count": 71,
   "metadata": {},
   "outputs": [
    {
     "data": {
      "image/png": "[encoded data removed]",
      "text/plain": [
       "<Figure size 800x600 with 2 Axes>"
      ]
     },
     "metadata": {},
     "output_type": "display_data"
    },
    {
     "data": {
      "image/png": "[encoded data removed]",
      "text/plain": [
       "<Figure size 800x600 with 2 Axes>"
      ]
     },
     "metadata": {},
     "output_type": "display_data"
    },
    {
     "data": {
      "image/png": "[encoded data removed]",
      "text/plain": [
       "<Figure size 800x600 with 2 Axes>"
      ]
     },
     "metadata": {},
     "output_type": "display_data"
    }
   ],
   "source": [
    "from sklearn.metrics import confusion_matrix\n",
    "\n",
    "def plot_confusion_matrix(y_true, y_pred, title):\n",
    "    cm = confusion_matrix(y_true, y_pred, labels=np.unique(y_true))\n",
    "    plt.figure(figsize=(8, 6))\n",
    "    sns.heatmap(cm, annot=True, fmt=\"d\", cmap=\"Blues\", xticklabels=np.unique(y_true), yticklabels=np.unique(y_true))\n",
    "    plt.xlabel(\"LDA Prediction\")\n",
    "    plt.ylabel(\"Clustering-Based Categories\")\n",
    "    plt.title(f\"Confusion Matrix: {title}\")\n",
    "    plt.show()\n",
    "\n",
    "# Generate confusion matrices\n",
    "plot_confusion_matrix(profiles_cleaned[\"education_level\"], profiles_benchmark[\"education_level_lda\"], \"Education Level\")\n",
    "plot_confusion_matrix(profiles_cleaned[\"children_status\"], profiles_benchmark[\"children_status_lda\"], \"Children Status\")\n",
    "plot_confusion_matrix(profiles_cleaned[\"marital_status\"], profiles_benchmark[\"marital_status_lda\"], \"Marital Status\")\n"
   ]
  },
  {
   "cell_type": "code",
   "execution_count": 72,
   "metadata": {},
   "outputs": [
    {
     "name": "stdout",
     "output_type": "stream",
     "text": [
      "Cohen's Kappa Score - Education: -0.1243\n",
      "Cohen's Kappa Score - Children: -0.2384\n",
      "Cohen's Kappa Score - Marital Status: 0.6879\n"
     ]
    }
   ],
   "source": [
    "from sklearn.metrics import cohen_kappa_score\n",
    "\n",
    "# Compute Cohen's Kappa Score (Agreement beyond random chance)\n",
    "kappa_education = cohen_kappa_score(profiles_benchmark[\"education_level_lda\"], profiles_cleaned[\"education_level\"])\n",
    "kappa_children = cohen_kappa_score(profiles_benchmark[\"children_status_lda\"], profiles_cleaned[\"children_status\"])\n",
    "kappa_marital = cohen_kappa_score(profiles_benchmark[\"marital_status_lda\"], profiles_cleaned[\"marital_status\"])\n",
    "\n",
    "print(f\"Cohen's Kappa Score - Education: {kappa_education:.4f}\")\n",
    "print(f\"Cohen's Kappa Score - Children: {kappa_children:.4f}\")\n",
    "print(f\"Cohen's Kappa Score - Marital Status: {kappa_marital:.4f}\")"
   ]
  },
  {
   "cell_type": "code",
   "execution_count": 87,
   "metadata": {},
   "outputs": [
    {
     "data": {
      "text/plain": [
       "Index(['user_id', 'gender', 'completed_level_of_education', 'children',\n",
       "       'marital_status', 'age_group', 'education_cluster', 'children_cluster',\n",
       "       'marital_cluster', 'marital_status_original', 'education_level',\n",
       "       'children_status'],\n",
       "      dtype='object')"
      ]
     },
     "metadata": {},
     "output_type": "display_data"
    },
    {
     "name": "stdout",
     "output_type": "stream",
     "text": [
      "(148919, 12)\n"
     ]
    }
   ],
   "source": [
    "display(profiles_cleaned.columns)\n",
    "print(profiles_cleaned.shape)"
   ]
  },
  {
   "cell_type": "code",
   "execution_count": 92,
   "metadata": {},
   "outputs": [
    {
     "name": "stdout",
     "output_type": "stream",
     "text": [
      "original edges count: 30622564\n",
      "filtered edges count (only users in profiles_cleaned): 425217\n"
     ]
    }
   ],
   "source": [
    "# filter edges to retain only users who are present in profiles_cleaned\n",
    "edges_filtered = edges[\n",
    "    (edges[\"source\"].isin(profiles_cleaned[\"user_id\"])) & \n",
    "    (edges[\"target\"].isin(profiles_cleaned[\"user_id\"]))\n",
    "].copy()\n",
    "\n",
    "print(f\"original edges count: {edges.shape[0]}\")\n",
    "print(f\"filtered edges count (only users in profiles_cleaned): {edges_filtered.shape[0]}\")"
   ]
  },
  {
   "cell_type": "code",
   "execution_count": 93,
   "metadata": {},
   "outputs": [
    {
     "name": "stdout",
     "output_type": "stream",
     "text": [
      "missing values in edges_merged:\n",
      "Series([], dtype: int64)\n"
     ]
    }
   ],
   "source": [
    "# merge source user attributes\n",
    "edges_merged = edges_filtered.merge(\n",
    "    profiles_cleaned, left_on=\"source\", right_on=\"user_id\", how=\"left\"\n",
    ")\n",
    "\n",
    "# rename columns to differentiate source attributes\n",
    "edges_merged.rename(columns={\n",
    "    \"gender\": \"gender_source\",\n",
    "    \"age_group\": \"age_group_source\",\n",
    "    \"education_level\": \"education_level_source\",\n",
    "    \"children_status\": \"children_status_source\",\n",
    "    \"marital_status\": \"marital_status_source\"\n",
    "}, inplace=True)\n",
    "\n",
    "# merge target user attributes\n",
    "edges_merged = edges_merged.merge(\n",
    "    profiles_cleaned, left_on=\"target\", right_on=\"user_id\", how=\"left\"\n",
    ")\n",
    "\n",
    "# rename columns to differentiate target attributes\n",
    "edges_merged.rename(columns={\n",
    "    \"gender\": \"gender_target\",\n",
    "    \"age_group\": \"age_group_target\",\n",
    "    \"education_level\": \"education_level_target\",\n",
    "    \"children_status\": \"children_status_target\",\n",
    "    \"marital_status\": \"marital_status_target\"\n",
    "}, inplace=True)\n",
    "\n",
    "# drop duplicate user_id columns\n",
    "edges_merged.drop(columns=[\"user_id_x\", \"user_id_y\"], inplace=True)\n",
    "\n",
    "# check for missing values\n",
    "missing_values = edges_merged.isna().sum()\n",
    "print(\"missing values in edges_merged:\")\n",
    "print(missing_values[missing_values > 0])"
   ]
  },
  {
   "cell_type": "code",
   "execution_count": 94,
   "metadata": {},
   "outputs": [
    {
     "name": "stdout",
     "output_type": "stream",
     "text": [
      "number of isolated users (no edges): 32632\n"
     ]
    }
   ],
   "source": [
    "# find users in profiles_cleaned who do not appear in the filtered edges dataset\n",
    "isolated_users = set(profiles_cleaned[\"user_id\"]) - set(edges_merged[\"source\"]).union(set(edges_merged[\"target\"]))\n",
    "print(f\"number of isolated users (no edges): {len(isolated_users)}\")"
   ]
  },
  {
   "cell_type": "code",
   "execution_count": 95,
   "metadata": {},
   "outputs": [
    {
     "data": {
      "text/html": [
       "<div>\n",
       "<style scoped>\n",
       "    .dataframe tbody tr th:only-of-type {\n",
       "        vertical-align: middle;\n",
       "    }\n",
       "\n",
       "    .dataframe tbody tr th {\n",
       "        vertical-align: top;\n",
       "    }\n",
       "\n",
       "    .dataframe thead th {\n",
       "        text-align: right;\n",
       "    }\n",
       "</style>\n",
       "<table border=\"1\" class=\"dataframe\">\n",
       "  <thead>\n",
       "    <tr style=\"text-align: right;\">\n",
       "      <th></th>\n",
       "      <th>source</th>\n",
       "      <th>target</th>\n",
       "      <th>gender_source</th>\n",
       "      <th>age_group_source</th>\n",
       "      <th>education_level_source</th>\n",
       "      <th>children_status_source</th>\n",
       "      <th>marital_status_source</th>\n",
       "      <th>gender_target</th>\n",
       "      <th>age_group_target</th>\n",
       "      <th>education_level_target</th>\n",
       "      <th>children_status_target</th>\n",
       "      <th>marital_status_target</th>\n",
       "    </tr>\n",
       "  </thead>\n",
       "  <tbody>\n",
       "    <tr>\n",
       "      <th>226</th>\n",
       "      <td>282</td>\n",
       "      <td>282</td>\n",
       "      <td>Male</td>\n",
       "      <td>19-25</td>\n",
       "      <td>Low</td>\n",
       "      <td>No</td>\n",
       "      <td>Single</td>\n",
       "      <td>Male</td>\n",
       "      <td>19-25</td>\n",
       "      <td>Low</td>\n",
       "      <td>No</td>\n",
       "      <td>Single</td>\n",
       "    </tr>\n",
       "    <tr>\n",
       "      <th>1097</th>\n",
       "      <td>1172</td>\n",
       "      <td>1172</td>\n",
       "      <td>Male</td>\n",
       "      <td>19-25</td>\n",
       "      <td>High</td>\n",
       "      <td>No</td>\n",
       "      <td>Single</td>\n",
       "      <td>Male</td>\n",
       "      <td>19-25</td>\n",
       "      <td>High</td>\n",
       "      <td>No</td>\n",
       "      <td>Single</td>\n",
       "    </tr>\n",
       "    <tr>\n",
       "      <th>1195</th>\n",
       "      <td>1263</td>\n",
       "      <td>1263</td>\n",
       "      <td>Male</td>\n",
       "      <td>19-25</td>\n",
       "      <td>Low</td>\n",
       "      <td>No</td>\n",
       "      <td>Single</td>\n",
       "      <td>Male</td>\n",
       "      <td>19-25</td>\n",
       "      <td>Low</td>\n",
       "      <td>No</td>\n",
       "      <td>Single</td>\n",
       "    </tr>\n",
       "    <tr>\n",
       "      <th>1541</th>\n",
       "      <td>1303</td>\n",
       "      <td>1303</td>\n",
       "      <td>Male</td>\n",
       "      <td>19-25</td>\n",
       "      <td>Low</td>\n",
       "      <td>No</td>\n",
       "      <td>Single</td>\n",
       "      <td>Male</td>\n",
       "      <td>19-25</td>\n",
       "      <td>Low</td>\n",
       "      <td>No</td>\n",
       "      <td>Single</td>\n",
       "    </tr>\n",
       "    <tr>\n",
       "      <th>2109</th>\n",
       "      <td>2191</td>\n",
       "      <td>2191</td>\n",
       "      <td>Female</td>\n",
       "      <td>45-64</td>\n",
       "      <td>Low</td>\n",
       "      <td>Yes</td>\n",
       "      <td>Married</td>\n",
       "      <td>Female</td>\n",
       "      <td>45-64</td>\n",
       "      <td>Low</td>\n",
       "      <td>Yes</td>\n",
       "      <td>Married</td>\n",
       "    </tr>\n",
       "    <tr>\n",
       "      <th>...</th>\n",
       "      <td>...</td>\n",
       "      <td>...</td>\n",
       "      <td>...</td>\n",
       "      <td>...</td>\n",
       "      <td>...</td>\n",
       "      <td>...</td>\n",
       "      <td>...</td>\n",
       "      <td>...</td>\n",
       "      <td>...</td>\n",
       "      <td>...</td>\n",
       "      <td>...</td>\n",
       "      <td>...</td>\n",
       "    </tr>\n",
       "    <tr>\n",
       "      <th>1632698</th>\n",
       "      <td>1632699</td>\n",
       "      <td>1632699</td>\n",
       "      <td>Male</td>\n",
       "      <td>45-64</td>\n",
       "      <td>High</td>\n",
       "      <td>No</td>\n",
       "      <td>Divorced or Widowed</td>\n",
       "      <td>Male</td>\n",
       "      <td>45-64</td>\n",
       "      <td>High</td>\n",
       "      <td>No</td>\n",
       "      <td>Divorced or Widowed</td>\n",
       "    </tr>\n",
       "    <tr>\n",
       "      <th>1632729</th>\n",
       "      <td>1632730</td>\n",
       "      <td>1632730</td>\n",
       "      <td>Female</td>\n",
       "      <td>45-64</td>\n",
       "      <td>Low</td>\n",
       "      <td>No</td>\n",
       "      <td>Married</td>\n",
       "      <td>Female</td>\n",
       "      <td>45-64</td>\n",
       "      <td>Low</td>\n",
       "      <td>No</td>\n",
       "      <td>Married</td>\n",
       "    </tr>\n",
       "    <tr>\n",
       "      <th>1632757</th>\n",
       "      <td>1632758</td>\n",
       "      <td>1632758</td>\n",
       "      <td>Female</td>\n",
       "      <td>45-64</td>\n",
       "      <td>Low</td>\n",
       "      <td>No</td>\n",
       "      <td>Divorced or Widowed</td>\n",
       "      <td>Female</td>\n",
       "      <td>45-64</td>\n",
       "      <td>Low</td>\n",
       "      <td>No</td>\n",
       "      <td>Divorced or Widowed</td>\n",
       "    </tr>\n",
       "    <tr>\n",
       "      <th>1632766</th>\n",
       "      <td>1632767</td>\n",
       "      <td>1632767</td>\n",
       "      <td>Female</td>\n",
       "      <td>45-64</td>\n",
       "      <td>Low</td>\n",
       "      <td>No</td>\n",
       "      <td>Single</td>\n",
       "      <td>Female</td>\n",
       "      <td>45-64</td>\n",
       "      <td>Low</td>\n",
       "      <td>No</td>\n",
       "      <td>Single</td>\n",
       "    </tr>\n",
       "    <tr>\n",
       "      <th>1632782</th>\n",
       "      <td>1632783</td>\n",
       "      <td>1632783</td>\n",
       "      <td>Male</td>\n",
       "      <td>26-44</td>\n",
       "      <td>Low</td>\n",
       "      <td>No</td>\n",
       "      <td>Divorced or Widowed</td>\n",
       "      <td>Male</td>\n",
       "      <td>26-44</td>\n",
       "      <td>Low</td>\n",
       "      <td>No</td>\n",
       "      <td>Divorced or Widowed</td>\n",
       "    </tr>\n",
       "  </tbody>\n",
       "</table>\n",
       "<p>32632 rows × 12 columns</p>\n",
       "</div>"
      ],
      "text/plain": [
       "          source   target gender_source age_group_source  \\\n",
       "226          282      282          Male            19-25   \n",
       "1097        1172     1172          Male            19-25   \n",
       "1195        1263     1263          Male            19-25   \n",
       "1541        1303     1303          Male            19-25   \n",
       "2109        2191     2191        Female            45-64   \n",
       "...          ...      ...           ...              ...   \n",
       "1632698  1632699  1632699          Male            45-64   \n",
       "1632729  1632730  1632730        Female            45-64   \n",
       "1632757  1632758  1632758        Female            45-64   \n",
       "1632766  1632767  1632767        Female            45-64   \n",
       "1632782  1632783  1632783          Male            26-44   \n",
       "\n",
       "        education_level_source children_status_source marital_status_source  \\\n",
       "226                        Low                     No                Single   \n",
       "1097                      High                     No                Single   \n",
       "1195                       Low                     No                Single   \n",
       "1541                       Low                     No                Single   \n",
       "2109                       Low                    Yes               Married   \n",
       "...                        ...                    ...                   ...   \n",
       "1632698                   High                     No   Divorced or Widowed   \n",
       "1632729                    Low                     No               Married   \n",
       "1632757                    Low                     No   Divorced or Widowed   \n",
       "1632766                    Low                     No                Single   \n",
       "1632782                    Low                     No   Divorced or Widowed   \n",
       "\n",
       "        gender_target age_group_target education_level_target  \\\n",
       "226              Male            19-25                    Low   \n",
       "1097             Male            19-25                   High   \n",
       "1195             Male            19-25                    Low   \n",
       "1541             Male            19-25                    Low   \n",
       "2109           Female            45-64                    Low   \n",
       "...               ...              ...                    ...   \n",
       "1632698          Male            45-64                   High   \n",
       "1632729        Female            45-64                    Low   \n",
       "1632757        Female            45-64                    Low   \n",
       "1632766        Female            45-64                    Low   \n",
       "1632782          Male            26-44                    Low   \n",
       "\n",
       "        children_status_target marital_status_target  \n",
       "226                         No                Single  \n",
       "1097                        No                Single  \n",
       "1195                        No                Single  \n",
       "1541                        No                Single  \n",
       "2109                       Yes               Married  \n",
       "...                        ...                   ...  \n",
       "1632698                     No   Divorced or Widowed  \n",
       "1632729                     No               Married  \n",
       "1632757                     No   Divorced or Widowed  \n",
       "1632766                     No                Single  \n",
       "1632782                     No   Divorced or Widowed  \n",
       "\n",
       "[32632 rows x 12 columns]"
      ]
     },
     "metadata": {},
     "output_type": "display_data"
    }
   ],
   "source": [
    "# create a dataframe for isolated users (self-loops)\n",
    "isolated_users_df = profiles_cleaned[profiles_cleaned[\"user_id\"].isin(isolated_users)].copy()\n",
    "\n",
    "# assign self-loop edges for isolated users\n",
    "isolated_users_df[\"source\"] = isolated_users_df[\"user_id\"]\n",
    "isolated_users_df[\"target\"] = isolated_users_df[\"user_id\"]\n",
    "\n",
    "# rename columns to match merged dataset structure\n",
    "for col in [\"gender\", \"age_group\", \"education_level\", \"children_status\", \"marital_status\"]:\n",
    "    isolated_users_df[f\"{col}_source\"] = isolated_users_df[col]\n",
    "    isolated_users_df[f\"{col}_target\"] = isolated_users_df[col]\n",
    "\n",
    "# retain only relevant columns\n",
    "isolated_users_df = isolated_users_df[[\"source\", \"target\"] + \n",
    "                                      [f\"{col}_source\" for col in [\"gender\", \"age_group\", \"education_level\", \"children_status\", \"marital_status\"]] + \n",
    "                                      [f\"{col}_target\" for col in [\"gender\", \"age_group\", \"education_level\", \"children_status\", \"marital_status\"]]]\n",
    "\n",
    "display(isolated_users_df)"
   ]
  },
  {
   "cell_type": "code",
   "execution_count": 96,
   "metadata": {},
   "outputs": [
    {
     "name": "stdout",
     "output_type": "stream",
     "text": [
      "final dataset size: (457849, 24)\n",
      "total unique users in network: 148919\n"
     ]
    }
   ],
   "source": [
    "# concatenate edges dataset with isolated users\n",
    "final_pokec_dataset = pd.concat([edges_merged, isolated_users_df], ignore_index=True)\n",
    "\n",
    "# check final dataset size\n",
    "print(f\"final dataset size: {final_pokec_dataset.shape}\")\n",
    "print(f\"total unique users in network: {len(set(final_pokec_dataset['source']).union(set(final_pokec_dataset['target'])))}\")"
   ]
  },
  {
   "cell_type": "code",
   "execution_count": 97,
   "metadata": {},
   "outputs": [],
   "source": [
    "# Export DataFrame to CSV\n",
    "final_pokec_dataset.to_csv(\"final_pokec_dataset.csv\", index=False)"
   ]
  },
  {
   "cell_type": "code",
   "execution_count": 99,
   "metadata": {},
   "outputs": [
    {
     "name": "stdout",
     "output_type": "stream",
     "text": [
      "Column: gender\n",
      "['Male' 'Female'] \n",
      "\n",
      "Column: education_level\n",
      "['Middle' 'Low' 'High' 'Vocational'] \n",
      "\n",
      "Column: children_status\n",
      "['No' 'Yes'] \n",
      "\n",
      "Column: marital_status\n",
      "['Single' 'Married' 'Divorced or Widowed' 'Cohabiting'] \n",
      "\n",
      "Column: age_group\n",
      "['19-25', '15-18', '26-44', '45-64', '65+']\n",
      "Categories (5, object): ['15-18' < '19-25' < '26-44' < '45-64' < '65+'] \n",
      "\n"
     ]
    }
   ],
   "source": [
    "# Define the columns of interest\n",
    "columns_of_interest = ['gender', 'education_level', 'children_status', 'marital_status', 'age_group']\n",
    "\n",
    "# Get unique values for each specified column\n",
    "unique_values = {col: profiles_cleaned[col].unique() for col in columns_of_interest}\n",
    "\n",
    "# Display unique values\n",
    "for col, values in unique_values.items():\n",
    "    print(f\"Column: {col}\")\n",
    "    print(values, \"\\n\")\n"
   ]
  }
 ],
 "metadata": {
  "kernelspec": {
   "display_name": "base",
   "language": "python",
   "name": "python3"
  },
  "language_info": {
   "codemirror_mode": {
    "name": "ipython",
    "version": 3
   },
   "file_extension": ".py",
   "mimetype": "text/x-python",
   "name": "python",
   "nbconvert_exporter": "python",
   "pygments_lexer": "ipython3",
   "version": "3.11.4"
  },
  "orig_nbformat": 4
 },
 "nbformat": 4,
 "nbformat_minor": 2
}
